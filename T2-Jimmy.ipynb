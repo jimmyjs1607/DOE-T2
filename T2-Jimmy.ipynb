{
 "cells": [
  {
   "cell_type": "code",
   "execution_count": 1,
   "id": "c1da68a4-2e61-46bd-b780-6fd53163a3e7",
   "metadata": {
    "tags": []
   },
   "outputs": [
    {
     "name": "stderr",
     "output_type": "stream",
     "text": [
      "Loading required package: psych\n",
      "\n",
      "Loading required package: FSA\n",
      "\n",
      "## FSA v0.9.1. See citation('FSA') if used in publication.\n",
      "## Run fishR() for related website and fishR('IFAR') for related book.\n",
      "\n",
      "\n",
      "Attaching package: 'FSA'\n",
      "\n",
      "\n",
      "The following object is masked from 'package:psych':\n",
      "\n",
      "    headtail\n",
      "\n",
      "\n",
      "Loading required package: lattice\n",
      "\n",
      "Loading required package: lsr\n",
      "\n",
      "Loading required package: rcompanion\n",
      "\n",
      "\n",
      "Attaching package: 'rcompanion'\n",
      "\n",
      "\n",
      "The following object is masked from 'package:psych':\n",
      "\n",
      "    phi\n",
      "\n",
      "\n",
      "Loading required package: ggplot2\n",
      "\n",
      "Registered S3 methods overwritten by 'tibble':\n",
      "  method     from  \n",
      "  format.tbl pillar\n",
      "  print.tbl  pillar\n",
      "\n",
      "Registered S3 methods overwritten by 'ggplot2':\n",
      "  method         from \n",
      "  [.quosures     rlang\n",
      "  c.quosures     rlang\n",
      "  print.quosures rlang\n",
      "\n",
      "\n",
      "Attaching package: 'ggplot2'\n",
      "\n",
      "\n",
      "The following objects are masked from 'package:psych':\n",
      "\n",
      "    %+%, alpha\n",
      "\n",
      "\n"
     ]
    }
   ],
   "source": [
    "options(warn=-1)\n",
    "if(!require(psych)){ install.packages(\"psych\")}\n",
    "if(!require(FSA)){ install.packages(\"FSA\")}\n",
    "if(!require(lattice)){ install.packages(\"lattice\")}\n",
    "if(!require(lsr)){ install.packages(\"lsr\")}\n",
    "if(!require(rcompanion)){ install.packages(\"rcompanion\")}\n",
    "if(!require(ggplot2)){ install.packages(\"ggplot2\")}\n",
    "if(!require(lattice)){ install.packages(\"tidyr\")}\n",
    "if(!require(lattice)){ install.packages(\"stringr\")}"
   ]
  },
  {
   "cell_type": "code",
   "execution_count": 2,
   "id": "2f64bbe3-deb7-4b1a-ada1-6c1ce6505cc3",
   "metadata": {
    "tags": []
   },
   "outputs": [
    {
     "name": "stderr",
     "output_type": "stream",
     "text": [
      "\n",
      "Attaching package: 'dplyr'\n",
      "\n",
      "\n",
      "The following objects are masked from 'package:stats':\n",
      "\n",
      "    filter, lag\n",
      "\n",
      "\n",
      "The following objects are masked from 'package:base':\n",
      "\n",
      "    intersect, setdiff, setequal, union\n",
      "\n",
      "\n",
      "Loading required package: carData\n",
      "\n",
      "Registered S3 methods overwritten by 'car':\n",
      "  method       from\n",
      "  hist.boot    FSA \n",
      "  confint.boot FSA \n",
      "\n",
      "\n",
      "Attaching package: 'car'\n",
      "\n",
      "\n",
      "The following object is masked from 'package:dplyr':\n",
      "\n",
      "    recode\n",
      "\n",
      "\n",
      "The following object is masked from 'package:FSA':\n",
      "\n",
      "    bootCase\n",
      "\n",
      "\n",
      "The following object is masked from 'package:psych':\n",
      "\n",
      "    logit\n",
      "\n",
      "\n"
     ]
    }
   ],
   "source": [
    "library(rcompanion)\n",
    "library(psych)\n",
    "library(dplyr)\n",
    "library(base)\n",
    "library(ggplot2)\n",
    "library(tidyr)\n",
    "library(stringr)\n",
    "library(car)"
   ]
  },
  {
   "cell_type": "markdown",
   "id": "3d57822e-2e10-49dd-9264-9a6a9f90b200",
   "metadata": {},
   "source": [
    "## Proc #2 "
   ]
  },
  {
   "cell_type": "code",
   "execution_count": 3,
   "id": "0745e95f-a174-40b0-9c80-597f43f10981",
   "metadata": {},
   "outputs": [],
   "source": [
    "line <- readLines(\"Datos_tarea_2.txt\")\n",
    "Tiempo<-line[which(grepl(\"user\", line, fixed = TRUE))]\n",
    "params<-line[which(grepl(\".sc\", line, fixed = TRUE))]"
   ]
  },
  {
   "cell_type": "code",
   "execution_count": 4,
   "id": "47f1ce73-2a34-4505-bf47-4f8fe98d5c69",
   "metadata": {},
   "outputs": [],
   "source": [
    "rm(\"line\")"
   ]
  },
  {
   "cell_type": "code",
   "execution_count": 5,
   "id": "3b469395-04a3-4644-bec3-25bef4c00c1b",
   "metadata": {},
   "outputs": [],
   "source": [
    "Data_raw <- data.frame(params, Tiempo)"
   ]
  },
  {
   "cell_type": "code",
   "execution_count": 6,
   "id": "ea2e576f-108c-4a46-ac48-bd420554d19a",
   "metadata": {},
   "outputs": [
    {
     "data": {
      "text/html": [
       "<table class=\"dataframe\">\n",
       "<caption>A data.frame: 6 × 2</caption>\n",
       "<thead>\n",
       "\t<tr><th></th><th scope=col>params</th><th scope=col>Tiempo</th></tr>\n",
       "\t<tr><th></th><th scope=col>&lt;chr&gt;</th><th scope=col>&lt;chr&gt;</th></tr>\n",
       "</thead>\n",
       "<tbody>\n",
       "\t<tr><th scope=row>1</th><td>10167_16000_APU_010_1280x720 </td><td>50.25 </td></tr>\n",
       "\t<tr><th scope=row>2</th><td>10184_1000_APU_011_1440x900  </td><td>30.90 </td></tr>\n",
       "\t<tr><th scope=row>3</th><td>10204_1000_APU_101_1280x720  </td><td>46.22 </td></tr>\n",
       "\t<tr><th scope=row>4</th><td>10210_16000_APU_110_1440x900 </td><td>171.67</td></tr>\n",
       "\t<tr><th scope=row>5</th><td>10216_4000_APU_001_1280x720  </td><td>33.40 </td></tr>\n",
       "\t<tr><th scope=row>6</th><td>10368_260000_APU_001_1280x720</td><td>147.53</td></tr>\n",
       "</tbody>\n",
       "</table>\n"
      ],
      "text/latex": [
       "A data.frame: 6 × 2\n",
       "\\begin{tabular}{r|ll}\n",
       "  & params & Tiempo\\\\\n",
       "  & <chr> & <chr>\\\\\n",
       "\\hline\n",
       "\t1 & 10167\\_16000\\_APU\\_010\\_1280x720  & 50.25 \\\\\n",
       "\t2 & 10184\\_1000\\_APU\\_011\\_1440x900   & 30.90 \\\\\n",
       "\t3 & 10204\\_1000\\_APU\\_101\\_1280x720   & 46.22 \\\\\n",
       "\t4 & 10210\\_16000\\_APU\\_110\\_1440x900  & 171.67\\\\\n",
       "\t5 & 10216\\_4000\\_APU\\_001\\_1280x720   & 33.40 \\\\\n",
       "\t6 & 10368\\_260000\\_APU\\_001\\_1280x720 & 147.53\\\\\n",
       "\\end{tabular}\n"
      ],
      "text/markdown": [
       "\n",
       "A data.frame: 6 × 2\n",
       "\n",
       "| <!--/--> | params &lt;chr&gt; | Tiempo &lt;chr&gt; |\n",
       "|---|---|---|\n",
       "| 1 | 10167_16000_APU_010_1280x720  | 50.25  |\n",
       "| 2 | 10184_1000_APU_011_1440x900   | 30.90  |\n",
       "| 3 | 10204_1000_APU_101_1280x720   | 46.22  |\n",
       "| 4 | 10210_16000_APU_110_1440x900  | 171.67 |\n",
       "| 5 | 10216_4000_APU_001_1280x720   | 33.40  |\n",
       "| 6 | 10368_260000_APU_001_1280x720 | 147.53 |\n",
       "\n"
      ],
      "text/plain": [
       "  params                        Tiempo\n",
       "1 10167_16000_APU_010_1280x720  50.25 \n",
       "2 10184_1000_APU_011_1440x900   30.90 \n",
       "3 10204_1000_APU_101_1280x720   46.22 \n",
       "4 10210_16000_APU_110_1440x900  171.67\n",
       "5 10216_4000_APU_001_1280x720   33.40 \n",
       "6 10368_260000_APU_001_1280x720 147.53"
      ]
     },
     "metadata": {},
     "output_type": "display_data"
    }
   ],
   "source": [
    "#https://www.tutorialspoint.com/how-to-remove-a-character-in-an-r-data-frame-column\n",
    "Data_raw$Tiempo <-gsub(\"user \",\"\",as.character(Data_raw$Tiempo))\n",
    "Data_raw$Tiempo <-gsub(\",\",\".\",as.character(Data_raw$Tiempo))\n",
    "Data_raw$params <-gsub(\"APU\",\"_APU_\",as.character(Data_raw$params))\n",
    "Data_raw$params <-gsub(\"GPU\",\"_GPU_\",as.character(Data_raw$params))\n",
    "Data_raw$params <-gsub(\"CPU\",\"_CPU_\",as.character(Data_raw$params))\n",
    "Data_raw$params <-gsub(\"-\",\"_\",as.character(Data_raw$params))\n",
    "Data_raw$params <-gsub(\".sc\",\"\",as.character(Data_raw$params))\n",
    "\n",
    "head(Data_raw)"
   ]
  },
  {
   "cell_type": "code",
   "execution_count": 7,
   "id": "09263445-f0d7-4896-96ba-8013a36652dc",
   "metadata": {},
   "outputs": [
    {
     "data": {
      "text/html": [
       "<table class=\"dataframe\">\n",
       "<caption>A data.frame: 6 × 5</caption>\n",
       "<thead>\n",
       "\t<tr><th></th><th scope=col>Objetos</th><th scope=col>Arquitectura</th><th scope=col>Efectos</th><th scope=col>Tamaño</th><th scope=col>Tiempo</th></tr>\n",
       "\t<tr><th></th><th scope=col>&lt;chr&gt;</th><th scope=col>&lt;chr&gt;</th><th scope=col>&lt;chr&gt;</th><th scope=col>&lt;chr&gt;</th><th scope=col>&lt;chr&gt;</th></tr>\n",
       "</thead>\n",
       "<tbody>\n",
       "\t<tr><th scope=row>1</th><td>16000 </td><td>APU</td><td>010</td><td>1280x720</td><td>50.25 </td></tr>\n",
       "\t<tr><th scope=row>2</th><td>1000  </td><td>APU</td><td>011</td><td>1440x900</td><td>30.90 </td></tr>\n",
       "\t<tr><th scope=row>3</th><td>1000  </td><td>APU</td><td>101</td><td>1280x720</td><td>46.22 </td></tr>\n",
       "\t<tr><th scope=row>4</th><td>16000 </td><td>APU</td><td>110</td><td>1440x900</td><td>171.67</td></tr>\n",
       "\t<tr><th scope=row>5</th><td>4000  </td><td>APU</td><td>001</td><td>1280x720</td><td>33.40 </td></tr>\n",
       "\t<tr><th scope=row>6</th><td>260000</td><td>APU</td><td>001</td><td>1280x720</td><td>147.53</td></tr>\n",
       "</tbody>\n",
       "</table>\n"
      ],
      "text/latex": [
       "A data.frame: 6 × 5\n",
       "\\begin{tabular}{r|lllll}\n",
       "  & Objetos & Arquitectura & Efectos & Tamaño & Tiempo\\\\\n",
       "  & <chr> & <chr> & <chr> & <chr> & <chr>\\\\\n",
       "\\hline\n",
       "\t1 & 16000  & APU & 010 & 1280x720 & 50.25 \\\\\n",
       "\t2 & 1000   & APU & 011 & 1440x900 & 30.90 \\\\\n",
       "\t3 & 1000   & APU & 101 & 1280x720 & 46.22 \\\\\n",
       "\t4 & 16000  & APU & 110 & 1440x900 & 171.67\\\\\n",
       "\t5 & 4000   & APU & 001 & 1280x720 & 33.40 \\\\\n",
       "\t6 & 260000 & APU & 001 & 1280x720 & 147.53\\\\\n",
       "\\end{tabular}\n"
      ],
      "text/markdown": [
       "\n",
       "A data.frame: 6 × 5\n",
       "\n",
       "| <!--/--> | Objetos &lt;chr&gt; | Arquitectura &lt;chr&gt; | Efectos &lt;chr&gt; | Tamaño &lt;chr&gt; | Tiempo &lt;chr&gt; |\n",
       "|---|---|---|---|---|---|\n",
       "| 1 | 16000  | APU | 010 | 1280x720 | 50.25  |\n",
       "| 2 | 1000   | APU | 011 | 1440x900 | 30.90  |\n",
       "| 3 | 1000   | APU | 101 | 1280x720 | 46.22  |\n",
       "| 4 | 16000  | APU | 110 | 1440x900 | 171.67 |\n",
       "| 5 | 4000   | APU | 001 | 1280x720 | 33.40  |\n",
       "| 6 | 260000 | APU | 001 | 1280x720 | 147.53 |\n",
       "\n"
      ],
      "text/plain": [
       "  Objetos Arquitectura Efectos Tamaño   Tiempo\n",
       "1 16000   APU          010     1280x720 50.25 \n",
       "2 1000    APU          011     1440x900 30.90 \n",
       "3 1000    APU          101     1280x720 46.22 \n",
       "4 16000   APU          110     1440x900 171.67\n",
       "5 4000    APU          001     1280x720 33.40 \n",
       "6 260000  APU          001     1280x720 147.53"
      ]
     },
     "metadata": {},
     "output_type": "display_data"
    }
   ],
   "source": [
    "Data_proc <- Data_raw %>% separate(params, c(NA,\"Objetos\",\"Arquitectura\", \"Efectos\", \"Tamaño\"), \"_\")\n",
    "head(Data_proc)"
   ]
  },
  {
   "cell_type": "code",
   "execution_count": 8,
   "id": "3fe55804-1868-43b7-a71c-ca39598a82a1",
   "metadata": {},
   "outputs": [
    {
     "data": {
      "text/html": [
       "<table class=\"dataframe\">\n",
       "<caption>A data.frame: 6 × 5</caption>\n",
       "<thead>\n",
       "\t<tr><th></th><th scope=col>Objetos</th><th scope=col>Arquitectura</th><th scope=col>Efectos</th><th scope=col>Tamaño</th><th scope=col>Tiempo</th></tr>\n",
       "\t<tr><th></th><th scope=col>&lt;fct&gt;</th><th scope=col>&lt;chr&gt;</th><th scope=col>&lt;chr&gt;</th><th scope=col>&lt;fct&gt;</th><th scope=col>&lt;dbl&gt;</th></tr>\n",
       "</thead>\n",
       "<tbody>\n",
       "\t<tr><th scope=row>1</th><td>16000 </td><td>APU</td><td>010</td><td>1280x720</td><td> 50.25</td></tr>\n",
       "\t<tr><th scope=row>2</th><td>1000  </td><td>APU</td><td>011</td><td>1440x900</td><td> 30.90</td></tr>\n",
       "\t<tr><th scope=row>3</th><td>1000  </td><td>APU</td><td>101</td><td>1280x720</td><td> 46.22</td></tr>\n",
       "\t<tr><th scope=row>4</th><td>16000 </td><td>APU</td><td>110</td><td>1440x900</td><td>171.67</td></tr>\n",
       "\t<tr><th scope=row>5</th><td>4000  </td><td>APU</td><td>001</td><td>1280x720</td><td> 33.40</td></tr>\n",
       "\t<tr><th scope=row>6</th><td>260000</td><td>APU</td><td>001</td><td>1280x720</td><td>147.53</td></tr>\n",
       "</tbody>\n",
       "</table>\n"
      ],
      "text/latex": [
       "A data.frame: 6 × 5\n",
       "\\begin{tabular}{r|lllll}\n",
       "  & Objetos & Arquitectura & Efectos & Tamaño & Tiempo\\\\\n",
       "  & <fct> & <chr> & <chr> & <fct> & <dbl>\\\\\n",
       "\\hline\n",
       "\t1 & 16000  & APU & 010 & 1280x720 &  50.25\\\\\n",
       "\t2 & 1000   & APU & 011 & 1440x900 &  30.90\\\\\n",
       "\t3 & 1000   & APU & 101 & 1280x720 &  46.22\\\\\n",
       "\t4 & 16000  & APU & 110 & 1440x900 & 171.67\\\\\n",
       "\t5 & 4000   & APU & 001 & 1280x720 &  33.40\\\\\n",
       "\t6 & 260000 & APU & 001 & 1280x720 & 147.53\\\\\n",
       "\\end{tabular}\n"
      ],
      "text/markdown": [
       "\n",
       "A data.frame: 6 × 5\n",
       "\n",
       "| <!--/--> | Objetos &lt;fct&gt; | Arquitectura &lt;chr&gt; | Efectos &lt;chr&gt; | Tamaño &lt;fct&gt; | Tiempo &lt;dbl&gt; |\n",
       "|---|---|---|---|---|---|\n",
       "| 1 | 16000  | APU | 010 | 1280x720 |  50.25 |\n",
       "| 2 | 1000   | APU | 011 | 1440x900 |  30.90 |\n",
       "| 3 | 1000   | APU | 101 | 1280x720 |  46.22 |\n",
       "| 4 | 16000  | APU | 110 | 1440x900 | 171.67 |\n",
       "| 5 | 4000   | APU | 001 | 1280x720 |  33.40 |\n",
       "| 6 | 260000 | APU | 001 | 1280x720 | 147.53 |\n",
       "\n"
      ],
      "text/plain": [
       "  Objetos Arquitectura Efectos Tamaño   Tiempo\n",
       "1 16000   APU          010     1280x720  50.25\n",
       "2 1000    APU          011     1440x900  30.90\n",
       "3 1000    APU          101     1280x720  46.22\n",
       "4 16000   APU          110     1440x900 171.67\n",
       "5 4000    APU          001     1280x720  33.40\n",
       "6 260000  APU          001     1280x720 147.53"
      ]
     },
     "metadata": {},
     "output_type": "display_data"
    },
    {
     "name": "stdout",
     "output_type": "stream",
     "text": [
      "'data.frame':\t1800 obs. of  5 variables:\n",
      " $ Objetos     : Factor w/ 5 levels \"16000\",\"1000\",..: 1 2 2 1 3 4 4 5 2 3 ...\n",
      " $ Arquitectura: chr  \"APU\" \"APU\" \"APU\" \"APU\" ...\n",
      " $ Efectos     : chr  \"010\" \"011\" \"101\" \"110\" ...\n",
      " $ Tamaño      : Factor w/ 3 levels \"1280x720\",\"1440x900\",..: 1 2 1 2 1 1 2 1 2 3 ...\n",
      " $ Tiempo      : num  50.2 30.9 46.2 171.7 33.4 ...\n"
     ]
    },
    {
     "data": {
      "text/plain": [
       "   Objetos    Arquitectura         Efectos                Tamaño   \n",
       " 16000 :360   Length:1800        Length:1800        1280x720 :600  \n",
       " 1000  :360   Class :character   Class :character   1440x900 :600  \n",
       " 4000  :360   Mode  :character   Mode  :character   1920x1080:600  \n",
       " 260000:360                                                        \n",
       " 65000 :360                                                        \n",
       "                                                                   \n",
       "     Tiempo       \n",
       " Min.   :   0.47  \n",
       " 1st Qu.:  32.20  \n",
       " Median :  91.87  \n",
       " Mean   : 396.96  \n",
       " 3rd Qu.: 342.26  \n",
       " Max.   :7588.69  "
      ]
     },
     "metadata": {},
     "output_type": "display_data"
    }
   ],
   "source": [
    "#https://cran.r-project.org/web/packages/hablar/vignettes/convert.html\n",
    "Data_proc$Tiempo <- as.double(Data_proc$Tiempo)\n",
    "Data_proc$Objetos <- as.integer(Data_proc$Objetos)\n",
    "Data_proc$Objetos = factor(Data_proc$Objetos, levels=unique(Data_proc$Objetos))\n",
    "Data_proc$Tamaño = factor(Data_proc$Tamaño, levels=unique(Data_proc$Tamaño))\n",
    "head(Data_proc)\n",
    "str(Data_proc)\n",
    "summary(Data_proc)"
   ]
  },
  {
   "cell_type": "code",
   "execution_count": 9,
   "id": "d6906a7f-3a0e-49ea-9288-b3c99f0ba676",
   "metadata": {},
   "outputs": [
    {
     "data": {
      "text/html": [
       "<table class=\"dataframe\">\n",
       "<caption>A data.frame: 24 × 10</caption>\n",
       "<thead>\n",
       "\t<tr><th scope=col>Arquitectura</th><th scope=col>Efectos</th><th scope=col>n</th><th scope=col>mean</th><th scope=col>sd</th><th scope=col>min</th><th scope=col>Q1</th><th scope=col>median</th><th scope=col>Q3</th><th scope=col>max</th></tr>\n",
       "\t<tr><th scope=col>&lt;chr&gt;</th><th scope=col>&lt;chr&gt;</th><th scope=col>&lt;dbl&gt;</th><th scope=col>&lt;dbl&gt;</th><th scope=col>&lt;dbl&gt;</th><th scope=col>&lt;dbl&gt;</th><th scope=col>&lt;dbl&gt;</th><th scope=col>&lt;dbl&gt;</th><th scope=col>&lt;dbl&gt;</th><th scope=col>&lt;dbl&gt;</th></tr>\n",
       "</thead>\n",
       "<tbody>\n",
       "\t<tr><td>APU</td><td>000</td><td>75</td><td>  48.8199</td><td>  25.8458</td><td> 22.15</td><td> 30.980</td><td>  37.61</td><td>  55.795</td><td> 109.90</td></tr>\n",
       "\t<tr><td>CPU</td><td>000</td><td>75</td><td> 200.8027</td><td> 187.0071</td><td> 36.10</td><td> 58.190</td><td> 119.24</td><td> 271.615</td><td> 652.17</td></tr>\n",
       "\t<tr><td>GPU</td><td>000</td><td>75</td><td>   8.6764</td><td>  11.4868</td><td>  0.47</td><td>  1.100</td><td>   2.81</td><td>   9.040</td><td>  34.96</td></tr>\n",
       "\t<tr><td>APU</td><td>001</td><td>75</td><td>  77.4107</td><td>  57.6023</td><td> 23.56</td><td> 34.205</td><td>  55.79</td><td> 103.525</td><td> 216.40</td></tr>\n",
       "\t<tr><td>CPU</td><td>001</td><td>75</td><td> 267.5824</td><td> 254.1440</td><td> 38.75</td><td> 68.435</td><td> 169.75</td><td> 385.955</td><td> 875.82</td></tr>\n",
       "\t<tr><td>GPU</td><td>001</td><td>75</td><td>  17.1929</td><td>  21.7500</td><td>  0.60</td><td>  1.910</td><td>   7.20</td><td>  21.850</td><td>  68.15</td></tr>\n",
       "\t<tr><td>APU</td><td>010</td><td>75</td><td>  68.9101</td><td>  42.6068</td><td> 25.63</td><td> 35.465</td><td>  56.13</td><td>  88.675</td><td> 168.91</td></tr>\n",
       "\t<tr><td>CPU</td><td>010</td><td>75</td><td> 289.8768</td><td> 262.2417</td><td> 43.06</td><td> 80.865</td><td> 202.69</td><td> 410.945</td><td> 913.51</td></tr>\n",
       "\t<tr><td>GPU</td><td>010</td><td>75</td><td>  14.9692</td><td>  18.2820</td><td>  0.70</td><td>  2.060</td><td>   6.60</td><td>  17.875</td><td>  56.69</td></tr>\n",
       "\t<tr><td>APU</td><td>011</td><td>75</td><td> 155.6615</td><td> 145.3788</td><td> 26.96</td><td> 42.715</td><td> 104.56</td><td> 228.890</td><td> 511.02</td></tr>\n",
       "\t<tr><td>CPU</td><td>011</td><td>75</td><td> 457.5608</td><td> 445.7299</td><td> 46.25</td><td> 97.190</td><td> 311.77</td><td> 705.605</td><td>1518.09</td></tr>\n",
       "\t<tr><td>GPU</td><td>011</td><td>75</td><td>  42.2373</td><td>  52.9388</td><td>  0.87</td><td>  3.575</td><td>  18.31</td><td>  59.805</td><td> 169.00</td></tr>\n",
       "\t<tr><td>APU</td><td>100</td><td>75</td><td> 142.2697</td><td> 121.0055</td><td> 38.18</td><td> 54.780</td><td>  86.71</td><td> 174.395</td><td> 427.39</td></tr>\n",
       "\t<tr><td>CPU</td><td>100</td><td>75</td><td>1004.5945</td><td> 935.1054</td><td>180.45</td><td>291.095</td><td> 599.15</td><td>1361.075</td><td>3256.66</td></tr>\n",
       "\t<tr><td>GPU</td><td>100</td><td>75</td><td>  41.9847</td><td>  55.6525</td><td>  2.06</td><td>  5.370</td><td>  13.24</td><td>  44.225</td><td> 171.03</td></tr>\n",
       "\t<tr><td>APU</td><td>101</td><td>75</td><td> 299.9036</td><td> 284.6765</td><td> 46.22</td><td> 81.680</td><td> 192.44</td><td> 434.675</td><td> 984.60</td></tr>\n",
       "\t<tr><td>CPU</td><td>101</td><td>75</td><td>1338.0468</td><td>1269.3089</td><td>194.57</td><td>341.960</td><td> 849.52</td><td>1929.590</td><td>4376.39</td></tr>\n",
       "\t<tr><td>GPU</td><td>101</td><td>75</td><td>  83.9477</td><td> 106.6525</td><td>  2.77</td><td>  8.815</td><td>  35.38</td><td> 108.380</td><td> 338.60</td></tr>\n",
       "\t<tr><td>APU</td><td>110</td><td>75</td><td> 246.1119</td><td> 207.6299</td><td> 49.06</td><td> 84.610</td><td> 177.01</td><td> 345.280</td><td> 727.23</td></tr>\n",
       "\t<tr><td>CPU</td><td>110</td><td>75</td><td>1449.1189</td><td>1310.0421</td><td>215.17</td><td>404.355</td><td>1011.97</td><td>2062.160</td><td>4563.32</td></tr>\n",
       "\t<tr><td>GPU</td><td>110</td><td>75</td><td>  73.4848</td><td>  90.1893</td><td>  3.20</td><td>  9.495</td><td>  32.54</td><td>  89.260</td><td> 279.20</td></tr>\n",
       "\t<tr><td>APU</td><td>111</td><td>75</td><td> 701.7709</td><td> 725.5421</td><td> 56.00</td><td>135.950</td><td> 442.79</td><td>1078.625</td><td>2437.39</td></tr>\n",
       "\t<tr><td>CPU</td><td>111</td><td>75</td><td>2288.5953</td><td>2227.8702</td><td>231.56</td><td>486.560</td><td>1559.04</td><td>3531.065</td><td>7588.69</td></tr>\n",
       "\t<tr><td>GPU</td><td>111</td><td>75</td><td> 207.4207</td><td> 259.6964</td><td>  4.19</td><td> 17.150</td><td>  90.46</td><td> 294.080</td><td> 824.22</td></tr>\n",
       "</tbody>\n",
       "</table>\n"
      ],
      "text/latex": [
       "A data.frame: 24 × 10\n",
       "\\begin{tabular}{llllllllll}\n",
       " Arquitectura & Efectos & n & mean & sd & min & Q1 & median & Q3 & max\\\\\n",
       " <chr> & <chr> & <dbl> & <dbl> & <dbl> & <dbl> & <dbl> & <dbl> & <dbl> & <dbl>\\\\\n",
       "\\hline\n",
       "\t APU & 000 & 75 &   48.8199 &   25.8458 &  22.15 &  30.980 &   37.61 &   55.795 &  109.90\\\\\n",
       "\t CPU & 000 & 75 &  200.8027 &  187.0071 &  36.10 &  58.190 &  119.24 &  271.615 &  652.17\\\\\n",
       "\t GPU & 000 & 75 &    8.6764 &   11.4868 &   0.47 &   1.100 &    2.81 &    9.040 &   34.96\\\\\n",
       "\t APU & 001 & 75 &   77.4107 &   57.6023 &  23.56 &  34.205 &   55.79 &  103.525 &  216.40\\\\\n",
       "\t CPU & 001 & 75 &  267.5824 &  254.1440 &  38.75 &  68.435 &  169.75 &  385.955 &  875.82\\\\\n",
       "\t GPU & 001 & 75 &   17.1929 &   21.7500 &   0.60 &   1.910 &    7.20 &   21.850 &   68.15\\\\\n",
       "\t APU & 010 & 75 &   68.9101 &   42.6068 &  25.63 &  35.465 &   56.13 &   88.675 &  168.91\\\\\n",
       "\t CPU & 010 & 75 &  289.8768 &  262.2417 &  43.06 &  80.865 &  202.69 &  410.945 &  913.51\\\\\n",
       "\t GPU & 010 & 75 &   14.9692 &   18.2820 &   0.70 &   2.060 &    6.60 &   17.875 &   56.69\\\\\n",
       "\t APU & 011 & 75 &  155.6615 &  145.3788 &  26.96 &  42.715 &  104.56 &  228.890 &  511.02\\\\\n",
       "\t CPU & 011 & 75 &  457.5608 &  445.7299 &  46.25 &  97.190 &  311.77 &  705.605 & 1518.09\\\\\n",
       "\t GPU & 011 & 75 &   42.2373 &   52.9388 &   0.87 &   3.575 &   18.31 &   59.805 &  169.00\\\\\n",
       "\t APU & 100 & 75 &  142.2697 &  121.0055 &  38.18 &  54.780 &   86.71 &  174.395 &  427.39\\\\\n",
       "\t CPU & 100 & 75 & 1004.5945 &  935.1054 & 180.45 & 291.095 &  599.15 & 1361.075 & 3256.66\\\\\n",
       "\t GPU & 100 & 75 &   41.9847 &   55.6525 &   2.06 &   5.370 &   13.24 &   44.225 &  171.03\\\\\n",
       "\t APU & 101 & 75 &  299.9036 &  284.6765 &  46.22 &  81.680 &  192.44 &  434.675 &  984.60\\\\\n",
       "\t CPU & 101 & 75 & 1338.0468 & 1269.3089 & 194.57 & 341.960 &  849.52 & 1929.590 & 4376.39\\\\\n",
       "\t GPU & 101 & 75 &   83.9477 &  106.6525 &   2.77 &   8.815 &   35.38 &  108.380 &  338.60\\\\\n",
       "\t APU & 110 & 75 &  246.1119 &  207.6299 &  49.06 &  84.610 &  177.01 &  345.280 &  727.23\\\\\n",
       "\t CPU & 110 & 75 & 1449.1189 & 1310.0421 & 215.17 & 404.355 & 1011.97 & 2062.160 & 4563.32\\\\\n",
       "\t GPU & 110 & 75 &   73.4848 &   90.1893 &   3.20 &   9.495 &   32.54 &   89.260 &  279.20\\\\\n",
       "\t APU & 111 & 75 &  701.7709 &  725.5421 &  56.00 & 135.950 &  442.79 & 1078.625 & 2437.39\\\\\n",
       "\t CPU & 111 & 75 & 2288.5953 & 2227.8702 & 231.56 & 486.560 & 1559.04 & 3531.065 & 7588.69\\\\\n",
       "\t GPU & 111 & 75 &  207.4207 &  259.6964 &   4.19 &  17.150 &   90.46 &  294.080 &  824.22\\\\\n",
       "\\end{tabular}\n"
      ],
      "text/markdown": [
       "\n",
       "A data.frame: 24 × 10\n",
       "\n",
       "| Arquitectura &lt;chr&gt; | Efectos &lt;chr&gt; | n &lt;dbl&gt; | mean &lt;dbl&gt; | sd &lt;dbl&gt; | min &lt;dbl&gt; | Q1 &lt;dbl&gt; | median &lt;dbl&gt; | Q3 &lt;dbl&gt; | max &lt;dbl&gt; |\n",
       "|---|---|---|---|---|---|---|---|---|---|\n",
       "| APU | 000 | 75 |   48.8199 |   25.8458 |  22.15 |  30.980 |   37.61 |   55.795 |  109.90 |\n",
       "| CPU | 000 | 75 |  200.8027 |  187.0071 |  36.10 |  58.190 |  119.24 |  271.615 |  652.17 |\n",
       "| GPU | 000 | 75 |    8.6764 |   11.4868 |   0.47 |   1.100 |    2.81 |    9.040 |   34.96 |\n",
       "| APU | 001 | 75 |   77.4107 |   57.6023 |  23.56 |  34.205 |   55.79 |  103.525 |  216.40 |\n",
       "| CPU | 001 | 75 |  267.5824 |  254.1440 |  38.75 |  68.435 |  169.75 |  385.955 |  875.82 |\n",
       "| GPU | 001 | 75 |   17.1929 |   21.7500 |   0.60 |   1.910 |    7.20 |   21.850 |   68.15 |\n",
       "| APU | 010 | 75 |   68.9101 |   42.6068 |  25.63 |  35.465 |   56.13 |   88.675 |  168.91 |\n",
       "| CPU | 010 | 75 |  289.8768 |  262.2417 |  43.06 |  80.865 |  202.69 |  410.945 |  913.51 |\n",
       "| GPU | 010 | 75 |   14.9692 |   18.2820 |   0.70 |   2.060 |    6.60 |   17.875 |   56.69 |\n",
       "| APU | 011 | 75 |  155.6615 |  145.3788 |  26.96 |  42.715 |  104.56 |  228.890 |  511.02 |\n",
       "| CPU | 011 | 75 |  457.5608 |  445.7299 |  46.25 |  97.190 |  311.77 |  705.605 | 1518.09 |\n",
       "| GPU | 011 | 75 |   42.2373 |   52.9388 |   0.87 |   3.575 |   18.31 |   59.805 |  169.00 |\n",
       "| APU | 100 | 75 |  142.2697 |  121.0055 |  38.18 |  54.780 |   86.71 |  174.395 |  427.39 |\n",
       "| CPU | 100 | 75 | 1004.5945 |  935.1054 | 180.45 | 291.095 |  599.15 | 1361.075 | 3256.66 |\n",
       "| GPU | 100 | 75 |   41.9847 |   55.6525 |   2.06 |   5.370 |   13.24 |   44.225 |  171.03 |\n",
       "| APU | 101 | 75 |  299.9036 |  284.6765 |  46.22 |  81.680 |  192.44 |  434.675 |  984.60 |\n",
       "| CPU | 101 | 75 | 1338.0468 | 1269.3089 | 194.57 | 341.960 |  849.52 | 1929.590 | 4376.39 |\n",
       "| GPU | 101 | 75 |   83.9477 |  106.6525 |   2.77 |   8.815 |   35.38 |  108.380 |  338.60 |\n",
       "| APU | 110 | 75 |  246.1119 |  207.6299 |  49.06 |  84.610 |  177.01 |  345.280 |  727.23 |\n",
       "| CPU | 110 | 75 | 1449.1189 | 1310.0421 | 215.17 | 404.355 | 1011.97 | 2062.160 | 4563.32 |\n",
       "| GPU | 110 | 75 |   73.4848 |   90.1893 |   3.20 |   9.495 |   32.54 |   89.260 |  279.20 |\n",
       "| APU | 111 | 75 |  701.7709 |  725.5421 |  56.00 | 135.950 |  442.79 | 1078.625 | 2437.39 |\n",
       "| CPU | 111 | 75 | 2288.5953 | 2227.8702 | 231.56 | 486.560 | 1559.04 | 3531.065 | 7588.69 |\n",
       "| GPU | 111 | 75 |  207.4207 |  259.6964 |   4.19 |  17.150 |   90.46 |  294.080 |  824.22 |\n",
       "\n"
      ],
      "text/plain": [
       "   Arquitectura Efectos n  mean      sd        min    Q1      median  Q3      \n",
       "1  APU          000     75   48.8199   25.8458  22.15  30.980   37.61   55.795\n",
       "2  CPU          000     75  200.8027  187.0071  36.10  58.190  119.24  271.615\n",
       "3  GPU          000     75    8.6764   11.4868   0.47   1.100    2.81    9.040\n",
       "4  APU          001     75   77.4107   57.6023  23.56  34.205   55.79  103.525\n",
       "5  CPU          001     75  267.5824  254.1440  38.75  68.435  169.75  385.955\n",
       "6  GPU          001     75   17.1929   21.7500   0.60   1.910    7.20   21.850\n",
       "7  APU          010     75   68.9101   42.6068  25.63  35.465   56.13   88.675\n",
       "8  CPU          010     75  289.8768  262.2417  43.06  80.865  202.69  410.945\n",
       "9  GPU          010     75   14.9692   18.2820   0.70   2.060    6.60   17.875\n",
       "10 APU          011     75  155.6615  145.3788  26.96  42.715  104.56  228.890\n",
       "11 CPU          011     75  457.5608  445.7299  46.25  97.190  311.77  705.605\n",
       "12 GPU          011     75   42.2373   52.9388   0.87   3.575   18.31   59.805\n",
       "13 APU          100     75  142.2697  121.0055  38.18  54.780   86.71  174.395\n",
       "14 CPU          100     75 1004.5945  935.1054 180.45 291.095  599.15 1361.075\n",
       "15 GPU          100     75   41.9847   55.6525   2.06   5.370   13.24   44.225\n",
       "16 APU          101     75  299.9036  284.6765  46.22  81.680  192.44  434.675\n",
       "17 CPU          101     75 1338.0468 1269.3089 194.57 341.960  849.52 1929.590\n",
       "18 GPU          101     75   83.9477  106.6525   2.77   8.815   35.38  108.380\n",
       "19 APU          110     75  246.1119  207.6299  49.06  84.610  177.01  345.280\n",
       "20 CPU          110     75 1449.1189 1310.0421 215.17 404.355 1011.97 2062.160\n",
       "21 GPU          110     75   73.4848   90.1893   3.20   9.495   32.54   89.260\n",
       "22 APU          111     75  701.7709  725.5421  56.00 135.950  442.79 1078.625\n",
       "23 CPU          111     75 2288.5953 2227.8702 231.56 486.560 1559.04 3531.065\n",
       "24 GPU          111     75  207.4207  259.6964   4.19  17.150   90.46  294.080\n",
       "   max    \n",
       "1   109.90\n",
       "2   652.17\n",
       "3    34.96\n",
       "4   216.40\n",
       "5   875.82\n",
       "6    68.15\n",
       "7   168.91\n",
       "8   913.51\n",
       "9    56.69\n",
       "10  511.02\n",
       "11 1518.09\n",
       "12  169.00\n",
       "13  427.39\n",
       "14 3256.66\n",
       "15  171.03\n",
       "16  984.60\n",
       "17 4376.39\n",
       "18  338.60\n",
       "19  727.23\n",
       "20 4563.32\n",
       "21  279.20\n",
       "22 2437.39\n",
       "23 7588.69\n",
       "24  824.22"
      ]
     },
     "metadata": {},
     "output_type": "display_data"
    }
   ],
   "source": [
    "Summarize(Tiempo ~ Arquitectura*Efectos, data=Data_proc, digits=4)"
   ]
  },
  {
   "cell_type": "code",
   "execution_count": 10,
   "id": "bc7e7b9d-0f7a-47c1-8dc6-90ad254347bc",
   "metadata": {},
   "outputs": [
    {
     "data": {
      "text/html": [
       "<table class=\"dataframe\">\n",
       "<caption>A data.frame: 9 × 10</caption>\n",
       "<thead>\n",
       "\t<tr><th scope=col>Arquitectura</th><th scope=col>Tamaño</th><th scope=col>n</th><th scope=col>mean</th><th scope=col>sd</th><th scope=col>min</th><th scope=col>Q1</th><th scope=col>median</th><th scope=col>Q3</th><th scope=col>max</th></tr>\n",
       "\t<tr><th scope=col>&lt;chr&gt;</th><th scope=col>&lt;fct&gt;</th><th scope=col>&lt;dbl&gt;</th><th scope=col>&lt;dbl&gt;</th><th scope=col>&lt;dbl&gt;</th><th scope=col>&lt;dbl&gt;</th><th scope=col>&lt;dbl&gt;</th><th scope=col>&lt;dbl&gt;</th><th scope=col>&lt;dbl&gt;</th><th scope=col>&lt;dbl&gt;</th></tr>\n",
       "</thead>\n",
       "<tbody>\n",
       "\t<tr><td>APU</td><td>1280x720 </td><td>200</td><td> 175.1695</td><td> 269.9909</td><td>22.15</td><td> 43.7825</td><td> 78.020</td><td> 151.7975</td><td>1554.30</td></tr>\n",
       "\t<tr><td>CPU</td><td>1280x720 </td><td>200</td><td> 705.7019</td><td> 985.3063</td><td>36.10</td><td>148.3150</td><td>316.430</td><td> 795.1450</td><td>4808.51</td></tr>\n",
       "\t<tr><td>GPU</td><td>1280x720 </td><td>200</td><td>  49.5922</td><td>  97.7249</td><td> 0.47</td><td>  3.1300</td><td> 13.015</td><td>  44.1400</td><td> 547.68</td></tr>\n",
       "\t<tr><td>APU</td><td>1440x900 </td><td>200</td><td> 216.8042</td><td> 346.5716</td><td>26.24</td><td> 50.6975</td><td> 89.975</td><td> 189.3500</td><td>1996.02</td></tr>\n",
       "\t<tr><td>CPU</td><td>1440x900 </td><td>200</td><td> 910.1813</td><td>1256.7136</td><td>46.22</td><td>193.7575</td><td>423.250</td><td>1027.8500</td><td>6160.55</td></tr>\n",
       "\t<tr><td>GPU</td><td>1440x900 </td><td>200</td><td>  61.5909</td><td> 122.1324</td><td> 0.51</td><td>  3.6900</td><td> 14.520</td><td>  52.0950</td><td> 688.60</td></tr>\n",
       "\t<tr><td>APU</td><td>1920x1080</td><td>200</td><td> 260.8482</td><td> 426.5577</td><td>26.80</td><td> 55.1875</td><td>105.455</td><td> 233.0900</td><td>2437.39</td></tr>\n",
       "\t<tr><td>CPU</td><td>1920x1080</td><td>200</td><td>1120.1836</td><td>1540.6345</td><td>56.81</td><td>239.6775</td><td>527.385</td><td>1274.1375</td><td>7588.69</td></tr>\n",
       "\t<tr><td>GPU</td><td>1920x1080</td><td>200</td><td>  72.5345</td><td> 145.9630</td><td> 0.68</td><td>  4.0200</td><td> 16.805</td><td>  62.9325</td><td> 824.22</td></tr>\n",
       "</tbody>\n",
       "</table>\n"
      ],
      "text/latex": [
       "A data.frame: 9 × 10\n",
       "\\begin{tabular}{llllllllll}\n",
       " Arquitectura & Tamaño & n & mean & sd & min & Q1 & median & Q3 & max\\\\\n",
       " <chr> & <fct> & <dbl> & <dbl> & <dbl> & <dbl> & <dbl> & <dbl> & <dbl> & <dbl>\\\\\n",
       "\\hline\n",
       "\t APU & 1280x720  & 200 &  175.1695 &  269.9909 & 22.15 &  43.7825 &  78.020 &  151.7975 & 1554.30\\\\\n",
       "\t CPU & 1280x720  & 200 &  705.7019 &  985.3063 & 36.10 & 148.3150 & 316.430 &  795.1450 & 4808.51\\\\\n",
       "\t GPU & 1280x720  & 200 &   49.5922 &   97.7249 &  0.47 &   3.1300 &  13.015 &   44.1400 &  547.68\\\\\n",
       "\t APU & 1440x900  & 200 &  216.8042 &  346.5716 & 26.24 &  50.6975 &  89.975 &  189.3500 & 1996.02\\\\\n",
       "\t CPU & 1440x900  & 200 &  910.1813 & 1256.7136 & 46.22 & 193.7575 & 423.250 & 1027.8500 & 6160.55\\\\\n",
       "\t GPU & 1440x900  & 200 &   61.5909 &  122.1324 &  0.51 &   3.6900 &  14.520 &   52.0950 &  688.60\\\\\n",
       "\t APU & 1920x1080 & 200 &  260.8482 &  426.5577 & 26.80 &  55.1875 & 105.455 &  233.0900 & 2437.39\\\\\n",
       "\t CPU & 1920x1080 & 200 & 1120.1836 & 1540.6345 & 56.81 & 239.6775 & 527.385 & 1274.1375 & 7588.69\\\\\n",
       "\t GPU & 1920x1080 & 200 &   72.5345 &  145.9630 &  0.68 &   4.0200 &  16.805 &   62.9325 &  824.22\\\\\n",
       "\\end{tabular}\n"
      ],
      "text/markdown": [
       "\n",
       "A data.frame: 9 × 10\n",
       "\n",
       "| Arquitectura &lt;chr&gt; | Tamaño &lt;fct&gt; | n &lt;dbl&gt; | mean &lt;dbl&gt; | sd &lt;dbl&gt; | min &lt;dbl&gt; | Q1 &lt;dbl&gt; | median &lt;dbl&gt; | Q3 &lt;dbl&gt; | max &lt;dbl&gt; |\n",
       "|---|---|---|---|---|---|---|---|---|---|\n",
       "| APU | 1280x720  | 200 |  175.1695 |  269.9909 | 22.15 |  43.7825 |  78.020 |  151.7975 | 1554.30 |\n",
       "| CPU | 1280x720  | 200 |  705.7019 |  985.3063 | 36.10 | 148.3150 | 316.430 |  795.1450 | 4808.51 |\n",
       "| GPU | 1280x720  | 200 |   49.5922 |   97.7249 |  0.47 |   3.1300 |  13.015 |   44.1400 |  547.68 |\n",
       "| APU | 1440x900  | 200 |  216.8042 |  346.5716 | 26.24 |  50.6975 |  89.975 |  189.3500 | 1996.02 |\n",
       "| CPU | 1440x900  | 200 |  910.1813 | 1256.7136 | 46.22 | 193.7575 | 423.250 | 1027.8500 | 6160.55 |\n",
       "| GPU | 1440x900  | 200 |   61.5909 |  122.1324 |  0.51 |   3.6900 |  14.520 |   52.0950 |  688.60 |\n",
       "| APU | 1920x1080 | 200 |  260.8482 |  426.5577 | 26.80 |  55.1875 | 105.455 |  233.0900 | 2437.39 |\n",
       "| CPU | 1920x1080 | 200 | 1120.1836 | 1540.6345 | 56.81 | 239.6775 | 527.385 | 1274.1375 | 7588.69 |\n",
       "| GPU | 1920x1080 | 200 |   72.5345 |  145.9630 |  0.68 |   4.0200 |  16.805 |   62.9325 |  824.22 |\n",
       "\n"
      ],
      "text/plain": [
       "  Arquitectura Tamaño    n   mean      sd        min   Q1       median \n",
       "1 APU          1280x720  200  175.1695  269.9909 22.15  43.7825  78.020\n",
       "2 CPU          1280x720  200  705.7019  985.3063 36.10 148.3150 316.430\n",
       "3 GPU          1280x720  200   49.5922   97.7249  0.47   3.1300  13.015\n",
       "4 APU          1440x900  200  216.8042  346.5716 26.24  50.6975  89.975\n",
       "5 CPU          1440x900  200  910.1813 1256.7136 46.22 193.7575 423.250\n",
       "6 GPU          1440x900  200   61.5909  122.1324  0.51   3.6900  14.520\n",
       "7 APU          1920x1080 200  260.8482  426.5577 26.80  55.1875 105.455\n",
       "8 CPU          1920x1080 200 1120.1836 1540.6345 56.81 239.6775 527.385\n",
       "9 GPU          1920x1080 200   72.5345  145.9630  0.68   4.0200  16.805\n",
       "  Q3        max    \n",
       "1  151.7975 1554.30\n",
       "2  795.1450 4808.51\n",
       "3   44.1400  547.68\n",
       "4  189.3500 1996.02\n",
       "5 1027.8500 6160.55\n",
       "6   52.0950  688.60\n",
       "7  233.0900 2437.39\n",
       "8 1274.1375 7588.69\n",
       "9   62.9325  824.22"
      ]
     },
     "metadata": {},
     "output_type": "display_data"
    }
   ],
   "source": [
    "Summarize(Tiempo ~ Arquitectura*Tamaño, data=Data_proc, digits=4)"
   ]
  },
  {
   "cell_type": "code",
   "execution_count": 11,
   "id": "5237bc40-4b91-4f90-b5ca-6c34ebc24cc2",
   "metadata": {},
   "outputs": [
    {
     "data": {
      "text/html": [
       "<table class=\"dataframe\">\n",
       "<caption>A data.frame: 15 × 10</caption>\n",
       "<thead>\n",
       "\t<tr><th scope=col>Arquitectura</th><th scope=col>Objetos</th><th scope=col>n</th><th scope=col>mean</th><th scope=col>sd</th><th scope=col>min</th><th scope=col>Q1</th><th scope=col>median</th><th scope=col>Q3</th><th scope=col>max</th></tr>\n",
       "\t<tr><th scope=col>&lt;chr&gt;</th><th scope=col>&lt;fct&gt;</th><th scope=col>&lt;dbl&gt;</th><th scope=col>&lt;dbl&gt;</th><th scope=col>&lt;dbl&gt;</th><th scope=col>&lt;dbl&gt;</th><th scope=col>&lt;dbl&gt;</th><th scope=col>&lt;dbl&gt;</th><th scope=col>&lt;dbl&gt;</th><th scope=col>&lt;dbl&gt;</th></tr>\n",
       "</thead>\n",
       "<tbody>\n",
       "\t<tr><td>APU</td><td>16000 </td><td>120</td><td> 143.6490</td><td> 127.0058</td><td> 34.39</td><td> 56.0450</td><td>  95.825</td><td> 183.4175</td><td> 521.32</td></tr>\n",
       "\t<tr><td>CPU</td><td>16000 </td><td>120</td><td> 600.9662</td><td> 494.9332</td><td> 88.93</td><td>193.7575</td><td> 409.390</td><td> 890.0100</td><td>1869.83</td></tr>\n",
       "\t<tr><td>GPU</td><td>16000 </td><td>120</td><td>  25.2894</td><td>  26.8955</td><td>  2.16</td><td>  6.9225</td><td>  14.885</td><td>  33.2275</td><td> 104.59</td></tr>\n",
       "\t<tr><td>APU</td><td>1000  </td><td>120</td><td>  40.7383</td><td>  14.5340</td><td> 22.15</td><td> 27.8400</td><td>  34.965</td><td>  53.3925</td><td>  70.88</td></tr>\n",
       "\t<tr><td>CPU</td><td>1000  </td><td>120</td><td> 155.7912</td><td> 110.1541</td><td> 36.10</td><td> 52.6175</td><td> 124.725</td><td> 253.3375</td><td> 345.05</td></tr>\n",
       "\t<tr><td>GPU</td><td>1000  </td><td>120</td><td>   2.2397</td><td>   1.5320</td><td>  0.47</td><td>  0.8600</td><td>   1.695</td><td>   3.5700</td><td>   5.37</td></tr>\n",
       "\t<tr><td>APU</td><td>4000  </td><td>120</td><td>  71.3999</td><td>  42.9259</td><td> 29.34</td><td> 38.0075</td><td>  54.440</td><td>  95.2200</td><td> 191.74</td></tr>\n",
       "\t<tr><td>CPU</td><td>4000  </td><td>120</td><td> 299.7444</td><td> 222.2753</td><td> 57.86</td><td> 96.9225</td><td> 221.765</td><td> 486.4425</td><td> 766.32</td></tr>\n",
       "\t<tr><td>GPU</td><td>4000  </td><td>120</td><td>   7.4899</td><td>   6.4559</td><td>  1.06</td><td>  2.3675</td><td>   4.800</td><td>  11.2425</td><td>  28.48</td></tr>\n",
       "\t<tr><td>APU</td><td>260000</td><td>120</td><td> 575.3961</td><td> 598.0163</td><td> 81.03</td><td>161.0750</td><td> 390.585</td><td> 674.8875</td><td>2437.39</td></tr>\n",
       "\t<tr><td>CPU</td><td>260000</td><td>120</td><td>2442.9737</td><td>1958.8506</td><td>432.17</td><td>743.7400</td><td>1841.830</td><td>3649.4725</td><td>7588.69</td></tr>\n",
       "\t<tr><td>GPU</td><td>260000</td><td>120</td><td> 204.3254</td><td> 205.8914</td><td> 25.85</td><td> 54.1200</td><td> 144.345</td><td> 252.0100</td><td> 824.22</td></tr>\n",
       "\t<tr><td>APU</td><td>65000 </td><td>120</td><td> 256.8531</td><td> 261.0262</td><td> 44.09</td><td> 83.7875</td><td> 161.975</td><td> 302.9175</td><td>1089.15</td></tr>\n",
       "\t<tr><td>CPU</td><td>65000 </td><td>120</td><td>1060.6360</td><td> 892.4549</td><td>165.01</td><td>321.9275</td><td> 767.175</td><td>1548.1775</td><td>3533.27</td></tr>\n",
       "\t<tr><td>GPU</td><td>65000 </td><td>120</td><td>  66.8517</td><td>  73.6365</td><td>  6.61</td><td> 17.2550</td><td>  41.650</td><td>  81.0650</td><td> 295.97</td></tr>\n",
       "</tbody>\n",
       "</table>\n"
      ],
      "text/latex": [
       "A data.frame: 15 × 10\n",
       "\\begin{tabular}{llllllllll}\n",
       " Arquitectura & Objetos & n & mean & sd & min & Q1 & median & Q3 & max\\\\\n",
       " <chr> & <fct> & <dbl> & <dbl> & <dbl> & <dbl> & <dbl> & <dbl> & <dbl> & <dbl>\\\\\n",
       "\\hline\n",
       "\t APU & 16000  & 120 &  143.6490 &  127.0058 &  34.39 &  56.0450 &   95.825 &  183.4175 &  521.32\\\\\n",
       "\t CPU & 16000  & 120 &  600.9662 &  494.9332 &  88.93 & 193.7575 &  409.390 &  890.0100 & 1869.83\\\\\n",
       "\t GPU & 16000  & 120 &   25.2894 &   26.8955 &   2.16 &   6.9225 &   14.885 &   33.2275 &  104.59\\\\\n",
       "\t APU & 1000   & 120 &   40.7383 &   14.5340 &  22.15 &  27.8400 &   34.965 &   53.3925 &   70.88\\\\\n",
       "\t CPU & 1000   & 120 &  155.7912 &  110.1541 &  36.10 &  52.6175 &  124.725 &  253.3375 &  345.05\\\\\n",
       "\t GPU & 1000   & 120 &    2.2397 &    1.5320 &   0.47 &   0.8600 &    1.695 &    3.5700 &    5.37\\\\\n",
       "\t APU & 4000   & 120 &   71.3999 &   42.9259 &  29.34 &  38.0075 &   54.440 &   95.2200 &  191.74\\\\\n",
       "\t CPU & 4000   & 120 &  299.7444 &  222.2753 &  57.86 &  96.9225 &  221.765 &  486.4425 &  766.32\\\\\n",
       "\t GPU & 4000   & 120 &    7.4899 &    6.4559 &   1.06 &   2.3675 &    4.800 &   11.2425 &   28.48\\\\\n",
       "\t APU & 260000 & 120 &  575.3961 &  598.0163 &  81.03 & 161.0750 &  390.585 &  674.8875 & 2437.39\\\\\n",
       "\t CPU & 260000 & 120 & 2442.9737 & 1958.8506 & 432.17 & 743.7400 & 1841.830 & 3649.4725 & 7588.69\\\\\n",
       "\t GPU & 260000 & 120 &  204.3254 &  205.8914 &  25.85 &  54.1200 &  144.345 &  252.0100 &  824.22\\\\\n",
       "\t APU & 65000  & 120 &  256.8531 &  261.0262 &  44.09 &  83.7875 &  161.975 &  302.9175 & 1089.15\\\\\n",
       "\t CPU & 65000  & 120 & 1060.6360 &  892.4549 & 165.01 & 321.9275 &  767.175 & 1548.1775 & 3533.27\\\\\n",
       "\t GPU & 65000  & 120 &   66.8517 &   73.6365 &   6.61 &  17.2550 &   41.650 &   81.0650 &  295.97\\\\\n",
       "\\end{tabular}\n"
      ],
      "text/markdown": [
       "\n",
       "A data.frame: 15 × 10\n",
       "\n",
       "| Arquitectura &lt;chr&gt; | Objetos &lt;fct&gt; | n &lt;dbl&gt; | mean &lt;dbl&gt; | sd &lt;dbl&gt; | min &lt;dbl&gt; | Q1 &lt;dbl&gt; | median &lt;dbl&gt; | Q3 &lt;dbl&gt; | max &lt;dbl&gt; |\n",
       "|---|---|---|---|---|---|---|---|---|---|\n",
       "| APU | 16000  | 120 |  143.6490 |  127.0058 |  34.39 |  56.0450 |   95.825 |  183.4175 |  521.32 |\n",
       "| CPU | 16000  | 120 |  600.9662 |  494.9332 |  88.93 | 193.7575 |  409.390 |  890.0100 | 1869.83 |\n",
       "| GPU | 16000  | 120 |   25.2894 |   26.8955 |   2.16 |   6.9225 |   14.885 |   33.2275 |  104.59 |\n",
       "| APU | 1000   | 120 |   40.7383 |   14.5340 |  22.15 |  27.8400 |   34.965 |   53.3925 |   70.88 |\n",
       "| CPU | 1000   | 120 |  155.7912 |  110.1541 |  36.10 |  52.6175 |  124.725 |  253.3375 |  345.05 |\n",
       "| GPU | 1000   | 120 |    2.2397 |    1.5320 |   0.47 |   0.8600 |    1.695 |    3.5700 |    5.37 |\n",
       "| APU | 4000   | 120 |   71.3999 |   42.9259 |  29.34 |  38.0075 |   54.440 |   95.2200 |  191.74 |\n",
       "| CPU | 4000   | 120 |  299.7444 |  222.2753 |  57.86 |  96.9225 |  221.765 |  486.4425 |  766.32 |\n",
       "| GPU | 4000   | 120 |    7.4899 |    6.4559 |   1.06 |   2.3675 |    4.800 |   11.2425 |   28.48 |\n",
       "| APU | 260000 | 120 |  575.3961 |  598.0163 |  81.03 | 161.0750 |  390.585 |  674.8875 | 2437.39 |\n",
       "| CPU | 260000 | 120 | 2442.9737 | 1958.8506 | 432.17 | 743.7400 | 1841.830 | 3649.4725 | 7588.69 |\n",
       "| GPU | 260000 | 120 |  204.3254 |  205.8914 |  25.85 |  54.1200 |  144.345 |  252.0100 |  824.22 |\n",
       "| APU | 65000  | 120 |  256.8531 |  261.0262 |  44.09 |  83.7875 |  161.975 |  302.9175 | 1089.15 |\n",
       "| CPU | 65000  | 120 | 1060.6360 |  892.4549 | 165.01 | 321.9275 |  767.175 | 1548.1775 | 3533.27 |\n",
       "| GPU | 65000  | 120 |   66.8517 |   73.6365 |   6.61 |  17.2550 |   41.650 |   81.0650 |  295.97 |\n",
       "\n"
      ],
      "text/plain": [
       "   Arquitectura Objetos n   mean      sd        min    Q1       median  \n",
       "1  APU          16000   120  143.6490  127.0058  34.39  56.0450   95.825\n",
       "2  CPU          16000   120  600.9662  494.9332  88.93 193.7575  409.390\n",
       "3  GPU          16000   120   25.2894   26.8955   2.16   6.9225   14.885\n",
       "4  APU          1000    120   40.7383   14.5340  22.15  27.8400   34.965\n",
       "5  CPU          1000    120  155.7912  110.1541  36.10  52.6175  124.725\n",
       "6  GPU          1000    120    2.2397    1.5320   0.47   0.8600    1.695\n",
       "7  APU          4000    120   71.3999   42.9259  29.34  38.0075   54.440\n",
       "8  CPU          4000    120  299.7444  222.2753  57.86  96.9225  221.765\n",
       "9  GPU          4000    120    7.4899    6.4559   1.06   2.3675    4.800\n",
       "10 APU          260000  120  575.3961  598.0163  81.03 161.0750  390.585\n",
       "11 CPU          260000  120 2442.9737 1958.8506 432.17 743.7400 1841.830\n",
       "12 GPU          260000  120  204.3254  205.8914  25.85  54.1200  144.345\n",
       "13 APU          65000   120  256.8531  261.0262  44.09  83.7875  161.975\n",
       "14 CPU          65000   120 1060.6360  892.4549 165.01 321.9275  767.175\n",
       "15 GPU          65000   120   66.8517   73.6365   6.61  17.2550   41.650\n",
       "   Q3        max    \n",
       "1   183.4175  521.32\n",
       "2   890.0100 1869.83\n",
       "3    33.2275  104.59\n",
       "4    53.3925   70.88\n",
       "5   253.3375  345.05\n",
       "6     3.5700    5.37\n",
       "7    95.2200  191.74\n",
       "8   486.4425  766.32\n",
       "9    11.2425   28.48\n",
       "10  674.8875 2437.39\n",
       "11 3649.4725 7588.69\n",
       "12  252.0100  824.22\n",
       "13  302.9175 1089.15\n",
       "14 1548.1775 3533.27\n",
       "15   81.0650  295.97"
      ]
     },
     "metadata": {},
     "output_type": "display_data"
    }
   ],
   "source": [
    "Summarize(Tiempo ~ Arquitectura*Objetos, data=Data_proc, digits=4)"
   ]
  },
  {
   "cell_type": "code",
   "execution_count": 12,
   "id": "cb93e9cc-723a-45dd-a0bd-eba3eb12c5d1",
   "metadata": {},
   "outputs": [
    {
     "data": {
      "text/html": [
       "<table class=\"dataframe\">\n",
       "<caption>A data.frame: 15 × 10</caption>\n",
       "<thead>\n",
       "\t<tr><th scope=col>Tamaño</th><th scope=col>Objetos</th><th scope=col>n</th><th scope=col>mean</th><th scope=col>sd</th><th scope=col>min</th><th scope=col>Q1</th><th scope=col>median</th><th scope=col>Q3</th><th scope=col>max</th></tr>\n",
       "\t<tr><th scope=col>&lt;fct&gt;</th><th scope=col>&lt;fct&gt;</th><th scope=col>&lt;dbl&gt;</th><th scope=col>&lt;dbl&gt;</th><th scope=col>&lt;dbl&gt;</th><th scope=col>&lt;dbl&gt;</th><th scope=col>&lt;dbl&gt;</th><th scope=col>&lt;dbl&gt;</th><th scope=col>&lt;dbl&gt;</th><th scope=col>&lt;dbl&gt;</th></tr>\n",
       "</thead>\n",
       "<tbody>\n",
       "\t<tr><td>1280x720 </td><td>16000 </td><td>120</td><td> 197.8449</td><td> 287.4095</td><td> 2.16</td><td> 26.8700</td><td> 78.510</td><td> 176.7850</td><td>1188.33</td></tr>\n",
       "\t<tr><td>1440x900 </td><td>16000 </td><td>120</td><td> 257.5177</td><td> 379.2504</td><td> 2.67</td><td> 34.4425</td><td> 97.435</td><td> 229.5850</td><td>1559.73</td></tr>\n",
       "\t<tr><td>1920x1080</td><td>16000 </td><td>120</td><td> 314.5419</td><td> 463.5883</td><td> 3.14</td><td> 39.9925</td><td>111.985</td><td> 279.7500</td><td>1869.83</td></tr>\n",
       "\t<tr><td>1280x720 </td><td>1000  </td><td>120</td><td>  54.1805</td><td>  71.0136</td><td> 0.47</td><td>  3.1300</td><td> 31.870</td><td>  49.4950</td><td> 232.66</td></tr>\n",
       "\t<tr><td>1440x900 </td><td>1000  </td><td>120</td><td>  66.2853</td><td>  89.5543</td><td> 0.51</td><td>  3.6900</td><td> 37.170</td><td>  55.4150</td><td> 288.09</td></tr>\n",
       "\t<tr><td>1920x1080</td><td>1000  </td><td>120</td><td>  78.3033</td><td> 108.9232</td><td> 0.68</td><td>  4.0200</td><td> 39.525</td><td>  65.8775</td><td> 345.05</td></tr>\n",
       "\t<tr><td>1280x720 </td><td>4000  </td><td>120</td><td>  98.8227</td><td> 134.4504</td><td> 1.06</td><td>  9.3775</td><td> 47.680</td><td>  88.0250</td><td> 486.57</td></tr>\n",
       "\t<tr><td>1440x900 </td><td>4000  </td><td>120</td><td> 126.7863</td><td> 178.2801</td><td> 1.27</td><td> 11.2175</td><td> 55.215</td><td> 111.0950</td><td> 637.11</td></tr>\n",
       "\t<tr><td>1920x1080</td><td>4000  </td><td>120</td><td> 153.0252</td><td> 218.0771</td><td> 1.49</td><td> 12.7200</td><td> 62.675</td><td> 134.2125</td><td> 766.32</td></tr>\n",
       "\t<tr><td>1280x720 </td><td>260000</td><td>120</td><td> 851.9070</td><td>1181.0825</td><td>25.85</td><td>123.7650</td><td>377.885</td><td> 733.5225</td><td>4808.51</td></tr>\n",
       "\t<tr><td>1440x900 </td><td>260000</td><td>120</td><td>1070.4656</td><td>1502.7615</td><td>30.86</td><td>147.1175</td><td>475.990</td><td> 902.3375</td><td>6160.55</td></tr>\n",
       "\t<tr><td>1920x1080</td><td>260000</td><td>120</td><td>1300.3226</td><td>1840.0217</td><td>34.09</td><td>169.0000</td><td>579.650</td><td>1117.5825</td><td>7588.69</td></tr>\n",
       "\t<tr><td>1280x720 </td><td>65000 </td><td>120</td><td> 348.0175</td><td> 497.1148</td><td> 6.61</td><td> 59.4825</td><td>154.570</td><td> 297.6500</td><td>2074.78</td></tr>\n",
       "\t<tr><td>1440x900 </td><td>65000 </td><td>120</td><td> 459.9057</td><td> 668.0592</td><td> 7.97</td><td> 71.3750</td><td>201.535</td><td> 400.4750</td><td>2809.92</td></tr>\n",
       "\t<tr><td>1920x1080</td><td>65000 </td><td>120</td><td> 576.4176</td><td> 843.5457</td><td> 9.00</td><td> 81.1950</td><td>251.570</td><td> 504.6300</td><td>3533.27</td></tr>\n",
       "</tbody>\n",
       "</table>\n"
      ],
      "text/latex": [
       "A data.frame: 15 × 10\n",
       "\\begin{tabular}{llllllllll}\n",
       " Tamaño & Objetos & n & mean & sd & min & Q1 & median & Q3 & max\\\\\n",
       " <fct> & <fct> & <dbl> & <dbl> & <dbl> & <dbl> & <dbl> & <dbl> & <dbl> & <dbl>\\\\\n",
       "\\hline\n",
       "\t 1280x720  & 16000  & 120 &  197.8449 &  287.4095 &  2.16 &  26.8700 &  78.510 &  176.7850 & 1188.33\\\\\n",
       "\t 1440x900  & 16000  & 120 &  257.5177 &  379.2504 &  2.67 &  34.4425 &  97.435 &  229.5850 & 1559.73\\\\\n",
       "\t 1920x1080 & 16000  & 120 &  314.5419 &  463.5883 &  3.14 &  39.9925 & 111.985 &  279.7500 & 1869.83\\\\\n",
       "\t 1280x720  & 1000   & 120 &   54.1805 &   71.0136 &  0.47 &   3.1300 &  31.870 &   49.4950 &  232.66\\\\\n",
       "\t 1440x900  & 1000   & 120 &   66.2853 &   89.5543 &  0.51 &   3.6900 &  37.170 &   55.4150 &  288.09\\\\\n",
       "\t 1920x1080 & 1000   & 120 &   78.3033 &  108.9232 &  0.68 &   4.0200 &  39.525 &   65.8775 &  345.05\\\\\n",
       "\t 1280x720  & 4000   & 120 &   98.8227 &  134.4504 &  1.06 &   9.3775 &  47.680 &   88.0250 &  486.57\\\\\n",
       "\t 1440x900  & 4000   & 120 &  126.7863 &  178.2801 &  1.27 &  11.2175 &  55.215 &  111.0950 &  637.11\\\\\n",
       "\t 1920x1080 & 4000   & 120 &  153.0252 &  218.0771 &  1.49 &  12.7200 &  62.675 &  134.2125 &  766.32\\\\\n",
       "\t 1280x720  & 260000 & 120 &  851.9070 & 1181.0825 & 25.85 & 123.7650 & 377.885 &  733.5225 & 4808.51\\\\\n",
       "\t 1440x900  & 260000 & 120 & 1070.4656 & 1502.7615 & 30.86 & 147.1175 & 475.990 &  902.3375 & 6160.55\\\\\n",
       "\t 1920x1080 & 260000 & 120 & 1300.3226 & 1840.0217 & 34.09 & 169.0000 & 579.650 & 1117.5825 & 7588.69\\\\\n",
       "\t 1280x720  & 65000  & 120 &  348.0175 &  497.1148 &  6.61 &  59.4825 & 154.570 &  297.6500 & 2074.78\\\\\n",
       "\t 1440x900  & 65000  & 120 &  459.9057 &  668.0592 &  7.97 &  71.3750 & 201.535 &  400.4750 & 2809.92\\\\\n",
       "\t 1920x1080 & 65000  & 120 &  576.4176 &  843.5457 &  9.00 &  81.1950 & 251.570 &  504.6300 & 3533.27\\\\\n",
       "\\end{tabular}\n"
      ],
      "text/markdown": [
       "\n",
       "A data.frame: 15 × 10\n",
       "\n",
       "| Tamaño &lt;fct&gt; | Objetos &lt;fct&gt; | n &lt;dbl&gt; | mean &lt;dbl&gt; | sd &lt;dbl&gt; | min &lt;dbl&gt; | Q1 &lt;dbl&gt; | median &lt;dbl&gt; | Q3 &lt;dbl&gt; | max &lt;dbl&gt; |\n",
       "|---|---|---|---|---|---|---|---|---|---|\n",
       "| 1280x720  | 16000  | 120 |  197.8449 |  287.4095 |  2.16 |  26.8700 |  78.510 |  176.7850 | 1188.33 |\n",
       "| 1440x900  | 16000  | 120 |  257.5177 |  379.2504 |  2.67 |  34.4425 |  97.435 |  229.5850 | 1559.73 |\n",
       "| 1920x1080 | 16000  | 120 |  314.5419 |  463.5883 |  3.14 |  39.9925 | 111.985 |  279.7500 | 1869.83 |\n",
       "| 1280x720  | 1000   | 120 |   54.1805 |   71.0136 |  0.47 |   3.1300 |  31.870 |   49.4950 |  232.66 |\n",
       "| 1440x900  | 1000   | 120 |   66.2853 |   89.5543 |  0.51 |   3.6900 |  37.170 |   55.4150 |  288.09 |\n",
       "| 1920x1080 | 1000   | 120 |   78.3033 |  108.9232 |  0.68 |   4.0200 |  39.525 |   65.8775 |  345.05 |\n",
       "| 1280x720  | 4000   | 120 |   98.8227 |  134.4504 |  1.06 |   9.3775 |  47.680 |   88.0250 |  486.57 |\n",
       "| 1440x900  | 4000   | 120 |  126.7863 |  178.2801 |  1.27 |  11.2175 |  55.215 |  111.0950 |  637.11 |\n",
       "| 1920x1080 | 4000   | 120 |  153.0252 |  218.0771 |  1.49 |  12.7200 |  62.675 |  134.2125 |  766.32 |\n",
       "| 1280x720  | 260000 | 120 |  851.9070 | 1181.0825 | 25.85 | 123.7650 | 377.885 |  733.5225 | 4808.51 |\n",
       "| 1440x900  | 260000 | 120 | 1070.4656 | 1502.7615 | 30.86 | 147.1175 | 475.990 |  902.3375 | 6160.55 |\n",
       "| 1920x1080 | 260000 | 120 | 1300.3226 | 1840.0217 | 34.09 | 169.0000 | 579.650 | 1117.5825 | 7588.69 |\n",
       "| 1280x720  | 65000  | 120 |  348.0175 |  497.1148 |  6.61 |  59.4825 | 154.570 |  297.6500 | 2074.78 |\n",
       "| 1440x900  | 65000  | 120 |  459.9057 |  668.0592 |  7.97 |  71.3750 | 201.535 |  400.4750 | 2809.92 |\n",
       "| 1920x1080 | 65000  | 120 |  576.4176 |  843.5457 |  9.00 |  81.1950 | 251.570 |  504.6300 | 3533.27 |\n",
       "\n"
      ],
      "text/plain": [
       "   Tamaño    Objetos n   mean      sd        min   Q1       median  Q3       \n",
       "1  1280x720  16000   120  197.8449  287.4095  2.16  26.8700  78.510  176.7850\n",
       "2  1440x900  16000   120  257.5177  379.2504  2.67  34.4425  97.435  229.5850\n",
       "3  1920x1080 16000   120  314.5419  463.5883  3.14  39.9925 111.985  279.7500\n",
       "4  1280x720  1000    120   54.1805   71.0136  0.47   3.1300  31.870   49.4950\n",
       "5  1440x900  1000    120   66.2853   89.5543  0.51   3.6900  37.170   55.4150\n",
       "6  1920x1080 1000    120   78.3033  108.9232  0.68   4.0200  39.525   65.8775\n",
       "7  1280x720  4000    120   98.8227  134.4504  1.06   9.3775  47.680   88.0250\n",
       "8  1440x900  4000    120  126.7863  178.2801  1.27  11.2175  55.215  111.0950\n",
       "9  1920x1080 4000    120  153.0252  218.0771  1.49  12.7200  62.675  134.2125\n",
       "10 1280x720  260000  120  851.9070 1181.0825 25.85 123.7650 377.885  733.5225\n",
       "11 1440x900  260000  120 1070.4656 1502.7615 30.86 147.1175 475.990  902.3375\n",
       "12 1920x1080 260000  120 1300.3226 1840.0217 34.09 169.0000 579.650 1117.5825\n",
       "13 1280x720  65000   120  348.0175  497.1148  6.61  59.4825 154.570  297.6500\n",
       "14 1440x900  65000   120  459.9057  668.0592  7.97  71.3750 201.535  400.4750\n",
       "15 1920x1080 65000   120  576.4176  843.5457  9.00  81.1950 251.570  504.6300\n",
       "   max    \n",
       "1  1188.33\n",
       "2  1559.73\n",
       "3  1869.83\n",
       "4   232.66\n",
       "5   288.09\n",
       "6   345.05\n",
       "7   486.57\n",
       "8   637.11\n",
       "9   766.32\n",
       "10 4808.51\n",
       "11 6160.55\n",
       "12 7588.69\n",
       "13 2074.78\n",
       "14 2809.92\n",
       "15 3533.27"
      ]
     },
     "metadata": {},
     "output_type": "display_data"
    }
   ],
   "source": [
    "Summarize(Tiempo ~ Tamaño*Objetos, data=Data_proc, digits=4)"
   ]
  },
  {
   "cell_type": "code",
   "execution_count": 13,
   "id": "eaf36d94-e3a3-4e2c-bafa-d4eaf7751a35",
   "metadata": {},
   "outputs": [
    {
     "data": {
      "image/png": "[encoded data removed]",
      "text/plain": [
       "plot without title"
      ]
     },
     "metadata": {
      "image/png": {
       "height": 420,
       "width": 420
      }
     },
     "output_type": "display_data"
    }
   ],
   "source": [
    "M = tapply(Data_proc$Tiempo, INDEX=Data_proc$Arquitectura, FUN = mean)\n",
    "boxplot(Tiempo ~ Arquitectura, data = Data_proc)\n",
    "points(M, col=\"red\", pch=\"+\", cex=2)\n",
    "\n",
    "#M = tapply(Data_proc$Tiempo, \n",
    "#           INDEX= Data_proc$Arquitectura, \n",
    "#           FUN = mean)\n",
    "#boxplot(Tiempo ~ Arquitectura + Efectos, \n",
    "#        data = Data_proc)\n",
    "#points(M, \n",
    "#       col=\"red\",\n",
    "#       pch=\"+\", cex=2)"
   ]
  },
  {
   "cell_type": "code",
   "execution_count": 14,
   "id": "6cfc5f45-b4c1-445d-8743-97b684aafb10",
   "metadata": {},
   "outputs": [
    {
     "data": {
      "image/png": "[encoded data removed]",
      "text/plain": [
       "plot without title"
      ]
     },
     "metadata": {
      "image/png": {
       "height": 420,
       "width": 420
      }
     },
     "output_type": "display_data"
    }
   ],
   "source": [
    "interaction.plot(x.factor = Data_proc$Efectos,\n",
    "                 trace.factor = Data_proc$Arquitectura,\n",
    "                 response = Data_proc$Tiempo,\n",
    "                 fun = mean,\n",
    "                 type = \"b\",\n",
    "                 col = c(\"black\", \"red\", \"green\"),\n",
    "                 pch = c(19, 17, 15),\n",
    "                 fixed = TRUE,\n",
    "                 leg_bty = \"o\")"
   ]
  },
  {
   "cell_type": "code",
   "execution_count": 15,
   "id": "9e7db1b8-e542-49d7-a334-bafd69522061",
   "metadata": {},
   "outputs": [
    {
     "data": {
      "image/png": "[encoded data removed]",
      "text/plain": [
       "plot without title"
      ]
     },
     "metadata": {
      "image/png": {
       "height": 420,
       "width": 420
      }
     },
     "output_type": "display_data"
    }
   ],
   "source": [
    "interaction.plot(x.factor = Data_proc$Tamaño,\n",
    "                 trace.factor = Data_proc$Arquitectura,\n",
    "                 response = Data_proc$Tiempo,\n",
    "                 fun = mean,\n",
    "                 type = \"b\",\n",
    "                 col = c(\"black\", \"red\", \"green\"),\n",
    "                 pch = c(19, 17, 15),\n",
    "                 fixed = TRUE,\n",
    "                 leg_bty = \"o\")"
   ]
  },
  {
   "cell_type": "code",
   "execution_count": 16,
   "id": "ac8c0c42-1d2b-47b6-81bc-b4efcebbd489",
   "metadata": {},
   "outputs": [
    {
     "data": {
      "image/png": "[encoded data removed]",
      "text/plain": [
       "plot without title"
      ]
     },
     "metadata": {
      "image/png": {
       "height": 420,
       "width": 420
      }
     },
     "output_type": "display_data"
    }
   ],
   "source": [
    "interaction.plot(x.factor = Data_proc$Efectos,\n",
    "                 trace.factor = Data_proc$Tamaño,\n",
    "                 response = Data_proc$Tiempo,\n",
    "                 fun = mean,\n",
    "                 type = \"b\",\n",
    "                 col = c(\"black\", \"red\", \"green\"),\n",
    "                 pch = c(19, 17, 15),\n",
    "                 fixed = TRUE,\n",
    "                 leg_bty = \"o\")"
   ]
  },
  {
   "cell_type": "code",
   "execution_count": 17,
   "id": "88a814e3-9898-4953-ad9b-5108020ad9c0",
   "metadata": {},
   "outputs": [
    {
     "data": {
      "image/png": "[encoded data removed]",
      "text/plain": [
       "plot without title"
      ]
     },
     "metadata": {
      "image/png": {
       "height": 420,
       "width": 420
      }
     },
     "output_type": "display_data"
    }
   ],
   "source": [
    "interaction.plot(x.factor = Data_proc$Objetos,\n",
    "                 trace.factor = Data_proc$Arquitectura,\n",
    "                 response = Data_proc$Tiempo,\n",
    "                 fun = mean,\n",
    "                 type = \"b\",\n",
    "                 col = c(\"black\", \"red\", \"green\"),\n",
    "                 pch = c(19, 17, 15),\n",
    "                 fixed = TRUE,\n",
    "                 leg_bty = \"o\")"
   ]
  },
  {
   "cell_type": "code",
   "execution_count": 18,
   "id": "9fa79eb9-9464-4ba4-909d-dcf4bbc16e6e",
   "metadata": {},
   "outputs": [
    {
     "data": {
      "image/png": "[encoded data removed]",
      "text/plain": [
       "plot without title"
      ]
     },
     "metadata": {
      "image/png": {
       "height": 420,
       "width": 420
      }
     },
     "output_type": "display_data"
    }
   ],
   "source": [
    "interaction.plot(x.factor = Data_proc$Objetos,\n",
    "                 trace.factor = Data_proc$Tamaño,\n",
    "                 response = Data_proc$Tiempo,\n",
    "                 fun = mean,\n",
    "                 type = \"b\",\n",
    "                 col = c(\"black\", \"red\", \"green\"),\n",
    "                 pch = c(19, 17, 15),\n",
    "                 fixed = TRUE,\n",
    "                 leg_bty = \"o\")"
   ]
  },
  {
   "cell_type": "code",
   "execution_count": 19,
   "id": "d3c49187-ec90-4e2d-bca2-b35e4a43759d",
   "metadata": {},
   "outputs": [
    {
     "data": {
      "image/png": "[encoded data removed]",
      "text/plain": [
       "plot without title"
      ]
     },
     "metadata": {
      "image/png": {
       "height": 420,
       "width": 420
      }
     },
     "output_type": "display_data"
    }
   ],
   "source": [
    "interaction.plot(x.factor = Data_proc$Efectos,\n",
    "                 trace.factor = Data_proc$Objetos,\n",
    "                 response = Data_proc$Tiempo,\n",
    "                 fun = mean,\n",
    "                 type = \"b\",\n",
    "                 col = c(\"black\", \"red\", \"green\"),\n",
    "                 pch = c(19, 17, 15),\n",
    "                 fixed = TRUE,\n",
    "                 leg_bty = \"o\")"
   ]
  },
  {
   "cell_type": "markdown",
   "id": "c9be6f1b-cc41-4f1e-9542-28f37bbb8aea",
   "metadata": {},
   "source": [
    "## Modelo Lineal"
   ]
  },
  {
   "cell_type": "code",
   "execution_count": 20,
   "id": "c959f68f-58d2-4454-a29a-3516e0539270",
   "metadata": {},
   "outputs": [
    {
     "data": {
      "text/html": [
       "<table class=\"dataframe\">\n",
       "<caption>A anova: 16 × 4</caption>\n",
       "<thead>\n",
       "\t<tr><th></th><th scope=col>Sum Sq</th><th scope=col>Df</th><th scope=col>F value</th><th scope=col>Pr(&gt;F)</th></tr>\n",
       "\t<tr><th></th><th scope=col>&lt;dbl&gt;</th><th scope=col>&lt;dbl&gt;</th><th scope=col>&lt;dbl&gt;</th><th scope=col>&lt;dbl&gt;</th></tr>\n",
       "</thead>\n",
       "<tbody>\n",
       "\t<tr><th scope=row>Arquitectura</th><td>2.460990e+08</td><td>   2</td><td>38754226.74</td><td> 0</td></tr>\n",
       "\t<tr><th scope=row>Efectos</th><td>1.788590e+08</td><td>   7</td><td> 8047334.79</td><td> 0</td></tr>\n",
       "\t<tr><th scope=row>Objetos</th><td>2.394779e+08</td><td>   4</td><td>18855786.88</td><td> 0</td></tr>\n",
       "\t<tr><th scope=row>Tamaño</th><td>9.121745e+06</td><td>   2</td><td> 1436438.93</td><td> 0</td></tr>\n",
       "\t<tr><th scope=row>Arquitectura:Efectos</th><td>1.391115e+08</td><td>  14</td><td> 3129494.69</td><td> 0</td></tr>\n",
       "\t<tr><th scope=row>Arquitectura:Objetos</th><td>1.955549e+08</td><td>   8</td><td> 7698710.09</td><td> 0</td></tr>\n",
       "\t<tr><th scope=row>Efectos:Objetos</th><td>1.656942e+08</td><td>  28</td><td> 1863753.49</td><td> 0</td></tr>\n",
       "\t<tr><th scope=row>Arquitectura:Tamaño</th><td>8.845734e+06</td><td>   4</td><td>  696487.17</td><td> 0</td></tr>\n",
       "\t<tr><th scope=row>Efectos:Tamaño</th><td>6.209094e+06</td><td>  14</td><td>  139681.67</td><td> 0</td></tr>\n",
       "\t<tr><th scope=row>Objetos:Tamaño</th><td>7.104305e+06</td><td>   8</td><td>  279686.06</td><td> 0</td></tr>\n",
       "\t<tr><th scope=row>Arquitectura:Efectos:Objetos</th><td>1.111049e+08</td><td>  56</td><td>  624862.21</td><td> 0</td></tr>\n",
       "\t<tr><th scope=row>Arquitectura:Efectos:Tamaño</th><td>5.014000e+06</td><td>  28</td><td>   56398.24</td><td> 0</td></tr>\n",
       "\t<tr><th scope=row>Arquitectura:Objetos:Tamaño</th><td>6.011889e+06</td><td>  16</td><td>  118339.62</td><td> 0</td></tr>\n",
       "\t<tr><th scope=row>Efectos:Objetos:Tamaño</th><td>5.623131e+06</td><td>  56</td><td>   31624.92</td><td> 0</td></tr>\n",
       "\t<tr><th scope=row>Arquitectura:Efectos:Objetos:Tamaño</th><td>3.774613e+06</td><td> 112</td><td>   10614.36</td><td> 0</td></tr>\n",
       "\t<tr><th scope=row>Residuals</th><td>4.572179e+03</td><td>1440</td><td>         NA</td><td>NA</td></tr>\n",
       "</tbody>\n",
       "</table>\n"
      ],
      "text/latex": [
       "A anova: 16 × 4\n",
       "\\begin{tabular}{r|llll}\n",
       "  & Sum Sq & Df & F value & Pr(>F)\\\\\n",
       "  & <dbl> & <dbl> & <dbl> & <dbl>\\\\\n",
       "\\hline\n",
       "\tArquitectura & 2.460990e+08 &    2 & 38754226.74 &  0\\\\\n",
       "\tEfectos & 1.788590e+08 &    7 &  8047334.79 &  0\\\\\n",
       "\tObjetos & 2.394779e+08 &    4 & 18855786.88 &  0\\\\\n",
       "\tTamaño & 9.121745e+06 &    2 &  1436438.93 &  0\\\\\n",
       "\tArquitectura:Efectos & 1.391115e+08 &   14 &  3129494.69 &  0\\\\\n",
       "\tArquitectura:Objetos & 1.955549e+08 &    8 &  7698710.09 &  0\\\\\n",
       "\tEfectos:Objetos & 1.656942e+08 &   28 &  1863753.49 &  0\\\\\n",
       "\tArquitectura:Tamaño & 8.845734e+06 &    4 &   696487.17 &  0\\\\\n",
       "\tEfectos:Tamaño & 6.209094e+06 &   14 &   139681.67 &  0\\\\\n",
       "\tObjetos:Tamaño & 7.104305e+06 &    8 &   279686.06 &  0\\\\\n",
       "\tArquitectura:Efectos:Objetos & 1.111049e+08 &   56 &   624862.21 &  0\\\\\n",
       "\tArquitectura:Efectos:Tamaño & 5.014000e+06 &   28 &    56398.24 &  0\\\\\n",
       "\tArquitectura:Objetos:Tamaño & 6.011889e+06 &   16 &   118339.62 &  0\\\\\n",
       "\tEfectos:Objetos:Tamaño & 5.623131e+06 &   56 &    31624.92 &  0\\\\\n",
       "\tArquitectura:Efectos:Objetos:Tamaño & 3.774613e+06 &  112 &    10614.36 &  0\\\\\n",
       "\tResiduals & 4.572179e+03 & 1440 &          NA & NA\\\\\n",
       "\\end{tabular}\n"
      ],
      "text/markdown": [
       "\n",
       "A anova: 16 × 4\n",
       "\n",
       "| <!--/--> | Sum Sq &lt;dbl&gt; | Df &lt;dbl&gt; | F value &lt;dbl&gt; | Pr(&gt;F) &lt;dbl&gt; |\n",
       "|---|---|---|---|---|\n",
       "| Arquitectura | 2.460990e+08 |    2 | 38754226.74 |  0 |\n",
       "| Efectos | 1.788590e+08 |    7 |  8047334.79 |  0 |\n",
       "| Objetos | 2.394779e+08 |    4 | 18855786.88 |  0 |\n",
       "| Tamaño | 9.121745e+06 |    2 |  1436438.93 |  0 |\n",
       "| Arquitectura:Efectos | 1.391115e+08 |   14 |  3129494.69 |  0 |\n",
       "| Arquitectura:Objetos | 1.955549e+08 |    8 |  7698710.09 |  0 |\n",
       "| Efectos:Objetos | 1.656942e+08 |   28 |  1863753.49 |  0 |\n",
       "| Arquitectura:Tamaño | 8.845734e+06 |    4 |   696487.17 |  0 |\n",
       "| Efectos:Tamaño | 6.209094e+06 |   14 |   139681.67 |  0 |\n",
       "| Objetos:Tamaño | 7.104305e+06 |    8 |   279686.06 |  0 |\n",
       "| Arquitectura:Efectos:Objetos | 1.111049e+08 |   56 |   624862.21 |  0 |\n",
       "| Arquitectura:Efectos:Tamaño | 5.014000e+06 |   28 |    56398.24 |  0 |\n",
       "| Arquitectura:Objetos:Tamaño | 6.011889e+06 |   16 |   118339.62 |  0 |\n",
       "| Efectos:Objetos:Tamaño | 5.623131e+06 |   56 |    31624.92 |  0 |\n",
       "| Arquitectura:Efectos:Objetos:Tamaño | 3.774613e+06 |  112 |    10614.36 |  0 |\n",
       "| Residuals | 4.572179e+03 | 1440 |          NA | NA |\n",
       "\n"
      ],
      "text/plain": [
       "                                    Sum Sq       Df   F value     Pr(>F)\n",
       "Arquitectura                        2.460990e+08    2 38754226.74  0    \n",
       "Efectos                             1.788590e+08    7  8047334.79  0    \n",
       "Objetos                             2.394779e+08    4 18855786.88  0    \n",
       "Tamaño                              9.121745e+06    2  1436438.93  0    \n",
       "Arquitectura:Efectos                1.391115e+08   14  3129494.69  0    \n",
       "Arquitectura:Objetos                1.955549e+08    8  7698710.09  0    \n",
       "Efectos:Objetos                     1.656942e+08   28  1863753.49  0    \n",
       "Arquitectura:Tamaño                 8.845734e+06    4   696487.17  0    \n",
       "Efectos:Tamaño                      6.209094e+06   14   139681.67  0    \n",
       "Objetos:Tamaño                      7.104305e+06    8   279686.06  0    \n",
       "Arquitectura:Efectos:Objetos        1.111049e+08   56   624862.21  0    \n",
       "Arquitectura:Efectos:Tamaño         5.014000e+06   28    56398.24  0    \n",
       "Arquitectura:Objetos:Tamaño         6.011889e+06   16   118339.62  0    \n",
       "Efectos:Objetos:Tamaño              5.623131e+06   56    31624.92  0    \n",
       "Arquitectura:Efectos:Objetos:Tamaño 3.774613e+06  112    10614.36  0    \n",
       "Residuals                           4.572179e+03 1440          NA NA    "
      ]
     },
     "metadata": {},
     "output_type": "display_data"
    }
   ],
   "source": [
    "model = lm(Tiempo ~ Arquitectura*Efectos*Objetos*Tamaño, data = Data_proc)\n",
    "Anova(model, type = \"II\")"
   ]
  },
  {
   "cell_type": "code",
   "execution_count": 21,
   "id": "48c36d44-3650-49eb-ba6e-22772857fcee",
   "metadata": {},
   "outputs": [
    {
     "data": {
      "image/png": "[encoded data removed]",
      "text/plain": [
       "Plot with title \"\""
      ]
     },
     "metadata": {
      "image/png": {
       "height": 420,
       "width": 420
      }
     },
     "output_type": "display_data"
    }
   ],
   "source": [
    "x=residuals(model)\n",
    "plotNormalHistogram(x)"
   ]
  },
  {
   "cell_type": "code",
   "execution_count": 22,
   "id": "cf6dc3e3-c0f2-442e-911b-15cecdd22ef4",
   "metadata": {
    "tags": []
   },
   "outputs": [
    {
     "ename": "ERROR",
     "evalue": "Error in (dm - 1) %*% ff: argumentos no compatibles\n",
     "output_type": "error",
     "traceback": [
      "Error in (dm - 1) %*% ff: argumentos no compatibles\nTraceback:\n",
      "1. plot(model)",
      "2. plot.lm(model)"
     ]
    },
    {
     "data": {
      "image/png": "[encoded data removed]",
      "text/plain": [
       "Plot with title \"\""
      ]
     },
     "metadata": {
      "image/png": {
       "height": 480,
       "width": 900
      }
     },
     "output_type": "display_data"
    },
    {
     "data": {
      "image/png": "[encoded data removed]",
      "text/plain": [
       "Plot with title \"\""
      ]
     },
     "metadata": {
      "image/png": {
       "height": 480,
       "width": 900
      }
     },
     "output_type": "display_data"
    }
   ],
   "source": [
    "options(repr.plot.width=15, repr.plot.height=8)\n",
    "par(mfrow=c(1,2))\n",
    "plot(model)"
   ]
  },
  {
   "cell_type": "markdown",
   "id": "15f6f614-1e88-43db-99e0-d611faae47fd",
   "metadata": {},
   "source": [
    "## Transformación de datos por raíz cuadrada"
   ]
  },
  {
   "cell_type": "code",
   "execution_count": null,
   "id": "8ef9aaf1-c42e-4b96-9a94-56c75ef65708",
   "metadata": {},
   "outputs": [],
   "source": [
    "Tiempo_sqrt=sqrt(Data_proc$Tiempo)\n",
    "model = lm(Tiempo_sqrt ~ Arquitectura*Efectos*Objetos*Tamaño, data = Data_proc)\n",
    "Anova(model, type = \"II\")\n",
    "x=residuals(model)\n",
    "plotNormalHistogram(x)\n"
   ]
  },
  {
   "cell_type": "code",
   "execution_count": null,
   "id": "91eb33fe-a160-4bc6-b22e-baf672defd0a",
   "metadata": {
    "tags": []
   },
   "outputs": [],
   "source": [
    "options(repr.plot.width=15, repr.plot.height=8)\n",
    "par(mfrow=c(1,2))\n",
    "plot(model)"
   ]
  },
  {
   "cell_type": "markdown",
   "id": "9f836233-efec-47d4-8eb2-62cf530e49d6",
   "metadata": {},
   "source": [
    "## Transformación de datos por logaritmo"
   ]
  },
  {
   "cell_type": "code",
   "execution_count": null,
   "id": "9f42d976-f4bd-413d-b355-69275eccf075",
   "metadata": {},
   "outputs": [],
   "source": [
    "Tiempo_log=log(Data_proc$Tiempo)\n",
    "model = lm(Tiempo_log ~ Arquitectura*Efectos*Objetos*Tamaño, data = Data_proc)\n",
    "Anova(model, type = \"II\")\n",
    "x=residuals(model)\n",
    "plotNormalHistogram(x)\n"
   ]
  },
  {
   "cell_type": "code",
   "execution_count": null,
   "id": "457d9871-528f-41b2-803f-008a81e530eb",
   "metadata": {},
   "outputs": [],
   "source": [
    "options(repr.plot.width=15, repr.plot.height=8)\n",
    "par(mfrow=c(1,2))\n",
    "plot(model)"
   ]
  },
  {
   "cell_type": "code",
   "execution_count": null,
   "id": "5de82908-a2a7-4f19-b6f3-d82e652c7943",
   "metadata": {},
   "outputs": [],
   "source": [
    "leveneTest(Tiempo_log ~ Arquitectura*Efectos*Objetos*Tamaño, data = Data_proc)"
   ]
  },
  {
   "cell_type": "markdown",
   "id": "6765962a-38b3-41dd-a608-390ed1818ea6",
   "metadata": {},
   "source": [
    "## Transformación con transformTukey"
   ]
  },
  {
   "cell_type": "code",
   "execution_count": null,
   "id": "623b665d-3cce-4f39-a921-090f1c629274",
   "metadata": {},
   "outputs": [],
   "source": [
    "options(repr.plot.width=15, repr.plot.height=8)\n",
    "par(mfrow=c(1,2))\n",
    "Tiempo_tukg=transformTukey(Data_proc$Tiempo)\n",
    "model = lm(Tiempo_tukg ~ Arquitectura*Efectos*Objetos*Tamaño, data = Data_proc)\n",
    "Anova(model, type = \"II\")\n",
    "x=residuals(model)\n",
    "plotNormalHistogram(x)"
   ]
  },
  {
   "cell_type": "markdown",
   "id": "f8a973b0-2fea-4066-89fa-5a326df33b5b",
   "metadata": {},
   "source": [
    "## Prueba de Levene para homocedasticidad"
   ]
  },
  {
   "cell_type": "code",
   "execution_count": null,
   "id": "f2acae33-969c-4d8d-b76c-e8addf862830",
   "metadata": {},
   "outputs": [],
   "source": [
    "leveneTest(Tiempo_tukg ~ Arquitectura*Efectos*Objetos*Tamaño, data = Data_proc)"
   ]
  },
  {
   "cell_type": "markdown",
   "id": "a06c7f4b-8c9c-4229-8cd6-da6acb51dc8d",
   "metadata": {},
   "source": [
    "## Análisis de lsmeans"
   ]
  },
  {
   "cell_type": "code",
   "execution_count": null,
   "id": "e65696ee-0ada-4324-a7da-aec887889364",
   "metadata": {},
   "outputs": [],
   "source": [
    "library(emmeans)\n",
    "\n",
    "marginal = lsmeans(model, ~ Arquitectura)\n",
    "pairs(marginal, adjust = \"tukey\")\n",
    "# CLD\n",
    "library(multcomp)\n",
    "CLD = cld(marginal, alpha = 0.05, Letters = letters, adjust = \"tukey\")\n",
    "CLD\n",
    "\n",
    "library(lsmeans)\n",
    "marginal = lsmeans(model, ~ Arquitectura)\n",
    "pairs(marginal, adjust = \"tukey\")\n",
    "# CLD\n",
    "library(multcomp)\n",
    "CLD = cld(marginal, alpha = 0.05, Letters = letters, adjust = \"tukey\")\n",
    "CLD"
   ]
  },
  {
   "cell_type": "code",
   "execution_count": null,
   "id": "568806ae-441f-48f5-9fec-7a771bacce0b",
   "metadata": {},
   "outputs": [],
   "source": [
    "library(FSA)\n",
    "Sum = Summarize(Tiempo_tukg ~ Objetos + Arquitectura, data = Data_proc, digits = 3)\n",
    "# Agregamos el se\n",
    "Sum$se = Sum$sd / sqrt(Sum$n)\n",
    "Sum$se = signif(Sum$se, digits = 3)\n",
    "Sum\n",
    "# Ordenamos\n",
    "Sum$Objetos = factor(Sum$Objetos, levels = unique(Sum$Objetos))\n",
    "# Graficamos\n",
    "library(ggplot2)\n",
    "pd = position_dodge(.2)\n",
    "ggplot(Sum, aes(x = Objetos,\n",
    "                y = mean,\n",
    "                color = Arquitectura)) +\n",
    "  geom_errorbar(aes(ymin = mean - se,\n",
    "                    ymax = mean + se),\n",
    "                    width = .2, size = 0.7, position = pd) +\n",
    "  geom_point(shape = 15, size = 4, position = pd) +\n",
    "  theme_bw() + \n",
    "  theme(axis.title = element_text(face = \"bold\")) +\n",
    "  scale_colour_manual(values = c(\"black\", \"red\", \"green\")) +\n",
    "                        ylab(\"Tiempo convertido usando Tukey Ladder of Powers\")"
   ]
  },
  {
   "cell_type": "markdown",
   "id": "942981a1-b0ec-446f-a2f4-11170c70e9d7",
   "metadata": {},
   "source": [
    "## Diagramas de cajas"
   ]
  },
  {
   "cell_type": "code",
   "execution_count": null,
   "id": "b7276690-6657-4084-81ce-a667e66eabc0",
   "metadata": {},
   "outputs": [],
   "source": [
    "M = tapply(Tiempo_tukg, \n",
    "           INDEX= Data_proc$Arquitectura, \n",
    "           FUN = mean)\n",
    "boxplot(Tiempo_tukg ~ Arquitectura, \n",
    "        data = Data_proc)\n",
    "points(M, \n",
    "       col=\"red\",\n",
    "       pch=\"+\", cex=1)"
   ]
  },
  {
   "cell_type": "code",
   "execution_count": null,
   "id": "9ace6068-13c3-4f71-96ae-19e9595d1837",
   "metadata": {},
   "outputs": [],
   "source": [
    "options(repr.plot.width=25, repr.plot.height=12)\n",
    "par(mfrow=c(1,1))\n",
    "\n",
    "M = tapply(Tiempo_tukg, \n",
    "           INDEX= Data_proc$Arquitectura, \n",
    "           FUN = mean)\n",
    "boxplot(Tiempo_tukg ~ Arquitectura + Efectos, \n",
    "        data = Data_proc)\n",
    "points(M, \n",
    "       col=\"red\",\n",
    "       pch=\"+\", cex=1)"
   ]
  },
  {
   "cell_type": "code",
   "execution_count": null,
   "id": "59b6e6d4-d12c-42ff-adfb-7a99c4e0cd45",
   "metadata": {},
   "outputs": [],
   "source": [
    "M = tapply(Tiempo_tukg, \n",
    "           INDEX= Data_proc$Arquitectura, \n",
    "           FUN = mean)\n",
    "boxplot(Tiempo_tukg ~ Arquitectura + Tamaño, \n",
    "        data = Data_proc)\n",
    "points(M, \n",
    "       col=\"red\",\n",
    "       pch=\"+\", cex=1)"
   ]
  },
  {
   "cell_type": "code",
   "execution_count": null,
   "id": "2a5803b8-588b-4df1-9189-1729432edf4d",
   "metadata": {},
   "outputs": [],
   "source": [
    "M = tapply(Tiempo_tukg, \n",
    "           INDEX= Data_proc$Arquitectura, \n",
    "           FUN = mean)\n",
    "boxplot(Tiempo_tukg ~ Arquitectura+Objetos, \n",
    "        data = Data_proc)\n",
    "points(M, \n",
    "       col=\"red\",\n",
    "       pch=\"+\", cex=1)"
   ]
  },
  {
   "cell_type": "markdown",
   "id": "8490826e-a9e4-483e-9be6-88c16288c58b",
   "metadata": {},
   "source": [
    "## Paso 7"
   ]
  },
  {
   "cell_type": "code",
   "execution_count": null,
   "id": "f292ddff-4bf2-4f7c-b055-3aef8f4a4052",
   "metadata": {},
   "outputs": [],
   "source": [
    "leveneTest(Tiempo_tukg ~ Arquitectura, data = Data_proc)\n",
    "leveneTest(Tiempo_tukg ~ Efectos, data = Data_proc)\n",
    "leveneTest(Tiempo_tukg ~ Tamaño, data = Data_proc)\n",
    "leveneTest(Tiempo_tukg ~ Objetos, data = Data_proc)\n",
    "\n",
    "model_p7 = lm(Tiempo_tukg ~ Tamaño, data = Data_proc)\n",
    "library(car)\n",
    "Anova(model_p7, type = \"II\")\n",
    "library(multcompView)\n",
    "marginal = lsmeans(model_p7, ~ Tamaño)\n",
    "pairs(marginal, adjust=\"tukey\")\n",
    "\n",
    "model_p7_2 = lm(Tiempo_tukg ~ Objetos, data = Data_proc)\n",
    "library(car)\n",
    "Anova(model_p7_2, type = \"II\")\n",
    "library(multcompView)\n",
    "marginal = lsmeans(model_p7_2, ~ Objetos)\n",
    "pairs(marginal, adjust=\"tukey\")"
   ]
  },
  {
   "cell_type": "code",
   "execution_count": null,
   "id": "0e4f64d8-327c-4001-b573-433fa8491662",
   "metadata": {},
   "outputs": [],
   "source": [
    "library(lsmeans)\n",
    "marginal = lsmeans(model_p7, ~ Tamaño)\n",
    "pairs(marginal, adjust = \"tukey\")\n",
    "# CLD\n",
    "library(multcomp)\n",
    "CLD = cld(marginal, alpha = 0.05, Letters = letters, adjust = \"tukey\")\n",
    "CLD\n"
   ]
  },
  {
   "cell_type": "code",
   "execution_count": null,
   "id": "c139ad9b-3f2a-4926-b9b2-bd883ac67ecb",
   "metadata": {},
   "outputs": [],
   "source": [
    "M = tapply(Tiempo_tukg, \n",
    "           INDEX= Data_proc$Arquitectura, \n",
    "           FUN = mean)\n",
    "boxplot(Tiempo_tukg ~ Arquitectura, \n",
    "        data = Data_proc)\n",
    "points(M, \n",
    "       col=\"red\",\n",
    "       pch=\"+\", cex=1)"
   ]
  },
  {
   "cell_type": "markdown",
   "id": "9e8559c2-fbf8-4fc1-822c-61a31ea5594c",
   "metadata": {},
   "source": [
    "## Métricas propias"
   ]
  },
  {
   "cell_type": "code",
   "execution_count": null,
   "id": "11268753-a2d1-4129-a9c0-39067f98c8c6",
   "metadata": {},
   "outputs": [],
   "source": [
    "## Objetos/Tiempo CPU\n",
    "\n",
    "Data_proc$Tiempo_Objetos =  (as.double(Data_proc$Objetos))/(Data_proc$Tiempo)\n",
    "head(Data_proc)"
   ]
  },
  {
   "cell_type": "code",
   "execution_count": null,
   "id": "52dc4105-c17c-4d06-8bb8-53bae375448d",
   "metadata": {},
   "outputs": [],
   "source": []
  }
 ],
 "metadata": {
  "kernelspec": {
   "display_name": "R",
   "language": "R",
   "name": "ir"
  },
  "language_info": {
   "codemirror_mode": "r",
   "file_extension": ".r",
   "mimetype": "text/x-r-source",
   "name": "R",
   "pygments_lexer": "r",
   "version": "3.6.1"
  }
 },
 "nbformat": 4,
 "nbformat_minor": 5
}
